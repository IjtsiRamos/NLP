{
 "cells": [
  {
   "cell_type": "markdown",
   "id": "fa989c70",
   "metadata": {},
   "source": [
    "# TF, DF, TF-IDF"
   ]
  },
  {
   "cell_type": "code",
   "execution_count": 1,
   "id": "ead230c0",
   "metadata": {},
   "outputs": [],
   "source": [
    "import functions_NLP as ftc\n",
    "from tqdm import tqdm\n",
    "from glob import glob\n",
    "import math"
   ]
  },
  {
   "cell_type": "markdown",
   "id": "1f4350ba",
   "metadata": {},
   "source": [
    "Se importan los documentos y utilizando la función de split y expresiones regulares, se limpiaron los documentos para que el resultado fuera una matriz con \"n\" vectores. La cantidad \"n\" se refiere al número total de cuentos.\n",
    "Cada vector contiene como elementos todas la palabras del cuento."
   ]
  },
  {
   "cell_type": "code",
   "execution_count": 2,
   "id": "47bdd816",
   "metadata": {
    "scrolled": true
   },
   "outputs": [
    {
     "name": "stderr",
     "output_type": "stream",
     "text": [
      "100%|██████████| 54/54 [00:00<00:00, 820.08it/s]\n"
     ]
    }
   ],
   "source": [
    "import re\n",
    "from pathlib import Path\n",
    "\n",
    "story=[]\n",
    "book=[]\n",
    "books={}\n",
    "path=r\"C:\\Users\\marco\\OneDrive\\Documents\\Ijtsi\\2\\NPL\\tarea2\\Textos_fuente\"\n",
    "for document in tqdm(glob(path+'/*')):\n",
    "    path1=Path(document).stem\n",
    "    with open(document,'r') as data_file:\n",
    "        for line in data_file:\n",
    "            data = line.split()\n",
    "            if data:\n",
    "                story.append(data)\n",
    "        for i in range(len(story)):\n",
    "            for j in range(len(story[i])):\n",
    "                story1 = re.sub(r\"\\W\", \"\", story[i][j])\n",
    "                book.append(story1.lower())\n",
    "        books[path1]=book      \n",
    "        story=[]\n",
    "        book=[]\n",
    "        \n",
    "        \n",
    "\n"
   ]
  },
  {
   "cell_type": "markdown",
   "id": "cf9a2d05",
   "metadata": {},
   "source": [
    "Se crea un diccionario con las palabras de todos los cuentos"
   ]
  },
  {
   "cell_type": "code",
   "execution_count": 3,
   "id": "0d235b1c",
   "metadata": {},
   "outputs": [
    {
     "name": "stdout",
     "output_type": "stream",
     "text": [
      "{'ana': 0, 'y': 1, 'el': 2, 'caballito': 3, 'verde': 4, 'érase': 5, 'una': 6, 'vez': 7, 'hermosa': 8, 'niña': 9, 'de': 10, 'nombre': 11, 'cuya': 12, 'casita': 13, 'se': 14, 'encontraba': 15, 'en': 16, 'lo': 17, 'más': 18, 'profundo': 19, 'del': 20, 'bosque': 21, 'junto': 22, 'a': 23, 'un': 24, 'río': 25, 'aguas': 26, 'tan': 27, 'cristalinas': 28, 'como': 29, 'sus': 30, 'ojos': 31, 'la': 32, 'salida': 33, 'sol': 34, 'pasaba': 35, 'las': 36, 'horas': 37, 'orilla': 38, 'peinando': 39, 'largos': 40, 'dorados': 41, 'cabellos': 42, 'cuando': 43, 'caía': 44, 'tarde': 45, 'asomaban': 46, 'primeras': 47, 'estrellas': 48, 'acotejaba': 49, 'chimenea': 50, 'hasta': 51, 'quedar': 52, 'suspendida': 53, 'sueño': 54, 'cierto': 55, 'día': 56, 'al': 57, 'apareció': 58, 'repente': 59, 'pequeño': 60, 'palma': 61, 'mano': 62, 'reluciente': 63, 'yerba': 64, 'mañana': 65, 'envuelta': 66, 'rocío': 67, '': 68, 'qué': 69, 'hermoso': 70, 'exclamó': 71, 'mientras': 72, 'acunaba': 73, 'su': 74, 'regazo': 75, 'te': 76, 'daré': 77, 'mi': 78, 'amistad': 79, 'dijo': 80, 'sin': 81, 'pensarlo': 82, 'dos': 83, 'veces': 84, 'vamos': 85, 'jugar': 86, 'comenzaron': 87, 'corretear': 88, 'por': 89, 'todo': 90, 'caída': 91, 'noche': 92, 'siguiente': 93, 'volvieron': 94, 'encontrar': 95, 'pero': 96, 'encontró': 97, 'animalito': 98, 'suspirando': 99, 'con': 100, 'cabeza': 101, 'baja': 102, 'estás': 103, 'triste': 104, 'preguntó': 105, 'acariciando': 106, 'crin': 107, 'amiga': 108, 'mía': 109, 'pesar': 110, 'ser': 111, 'soy': 112, 'animal': 113, 'muy': 114, 'veloz': 115, 'me': 116, 'sirve': 117, 'tal': 118, 'virtud': 119, 'si': 120, 'no': 121, 'puedo': 122, 'ayudar': 123, 'mis': 124, 'amigos': 125, 'cómo': 126, 'ayudarte': 127, 'haré': 128, 'que': 129, 'pidas': 130, 'hazme': 131, 'cabalgadura': 132, 'tus': 133, 'manos': 134, 'hábiles': 135, 'así': 136, 'podré': 137, 'llevar': 138, 'tiempo': 139, 'conejo': 140, 'clases': 141, 'violín': 142, 'rescataré': 143, 'bebé': 144, 'sinsonte': 145, 'aleje': 146, 'madre': 147, 'ciempiés': 148, 'pierda': 149, 'zapatos': 150, 'antes': 151, 'terminase': 152, 'hablar': 153, 'casi': 154, 'había': 155, 'terminado': 156, 'prepararle': 157, 'cascarón': 158, 'nuez': 159, 'rematado': 160, 'hebras': 161, 'pelo': 162, 'dorado': 163, 'atado': 164, 'lomo': 165, 'le': 166, 'devolvió': 167, 'sonrisa': 168, 'maravillosa': 169, 'echó': 170, 'correr': 171, 'perderse': 172, 'faltó': 173, 'encuentro': 174, 'amigo': 175, 'buscó': 176, 'toda': 177, 'vereda': 178, 'oír': 179, 'sollozo': 180, 'provenía': 181, 'lejos': 182, 'acercarse': 183, 'descubrió': 184, 'pobre': 185, 'muchacha': 186, 'tendida': 187, 'suelo': 188, 'rostro': 189, 'cubierto': 190, 'lágrimas': 191, 'lloras': 192, 'bella': 193, 'acurrucándose': 194, 'brazos': 195, 'he': 196, 'perdido': 197, 'hebillas': 198, 'sólo': 199, 'queda': 200, 'recogerme': 201, 'nada': 202, 'peine': 203, 'cuide': 204, 'noches': 205, 'quema': 206, 'fuego': 207, 'ayudaré': 208, 'aseguró': 209, 'escucha': 210, 'atención': 211, 'debes': 212, 'hacer': 213, 'hoy': 214, 'siembra': 215, 'tu': 216, 'última': 217, 'hebilla': 218, 'cerca': 219, 'encontrarás': 220, 'sorpresa': 221, 'hizo': 222, 'pequeña': 223, 'marchó': 224, 'dormir': 225, 'despuntar': 226, 'regresó': 227, 'hacia': 228, 'lugar': 229, 'donde': 230, 'enterrado': 231, 'allí': 232, 'para': 233, 'arbusto': 234, 'frondoso': 235, 'relucía': 236, 'los': 237, 'pies': 238, 'ramas': 239, 'brotaban': 240, 'frutos': 241, 'muchas': 242, 'relucientes': 243, 'varios': 244, 'colores': 245, 'entonces': 246, 'cubrió': 247, 'verse': 248, 'reflejo': 249, 'agua': 250, 'pudo': 251, 'contener': 252, 'emoción': 253, 'salió': 254, 'busca': 255, 'darle': 256, 'gracias': 257, 'alrededores': 258, 'decidió': 259, 'ir': 260, 'allá': 261, 'conocido': 262, 'tanto': 263, 'caminó': 264, 'extravió': 265, 'comenzaban': 266, 'abandonar': 267, 'fuerzas': 268, 'castillo': 269, 'majestuoso': 270, 'puertas': 271, 'alargadas': 272, 'cielo': 273, 'adentrarse': 274, 'interior': 275, 'espantoso': 276, 'gigante': 277, 'dormitaba': 278, 'tendido': 279, 'centro': 280, 'espaciosa': 281, 'sala': 282, 'mas': 283, 'disponía': 284, 'marcharse': 285, 'alcanzó': 286, 'voz': 287, 'querido': 288, 'chillaba': 289, 'desde': 290, 'barriga': 291, 'pidiendo': 292, 'socorro': 293, 'has': 294, 'llegado': 295, 'este': 296, 'susurró': 297, 'bajo': 298, 'posible': 299, 'ay': 300, 'comadreja': 301, 'devoró': 302, 'luego': 303, 'zorra': 304, 'tragó': 305, 'señor': 306, 'león': 307, 'embuchó': 308, 'rato': 309, 'almorzó': 310, 'solo': 311, 'bocado': 312, 'aquí': 313, 'estoy': 314, 'atrapado': 315, 'saber': 316, 'salir': 317, 'descuida': 318, 'yo': 319, 'valiente': 320, 'registrar': 321, 'palacio': 322, 'algo': 323, 'pudiera': 324, 'servirle': 325, 'ayuda': 326, 'jabón': 327, 'unas': 328, 'ciruelas': 329, 'mágicas': 330, 'permitían': 331, 'encogerse': 332, 'tamaño': 333, 'encaramó': 334, 'cuidado': 335, 'boca': 336, 'estaba': 337, 'suficientemente': 338, 'adentró': 339, 'garganta': 340, 'pasando': 341, 'encontrarse': 342, 'finalmente': 343, 'estómago': 344, 'emocionó': 345, 'mucho': 346, 'verla': 347, 'bueno': 348, 'venido': 349, 'auxilio': 350, 'nunca': 351, 'olvidaré': 352, 'tú': 353, 'ese': 354, 'momento': 355, 'restregó': 356, 'manitas': 357, 'tantas': 358, 'pompas': 359, 'logró': 360, 'grande': 361, 'entraran': 362, 'ella': 363, 'ascender': 364, 'pescuezo': 365, 'superficie': 366, 'apiadaron': 367, 'animales': 368, 'atrapados': 369, 'fauces': 370, 'agarraron': 371, 'cola': 372, 'ésta': 373, 'sostuvo': 374, 'zorro': 375, 'aferró': 376, 'patas': 377, 'melena': 378, 'flotaron': 379, 'fuera': 380, 'completamente': 381, 'salvo': 382, 'llegar': 383, 'casa': 384, 'despidió': 385, 'cordialmente': 386, 'prometieron': 387, 'volver': 388, 'embargo': 389, 'volvió': 390, 'aparecer': 391, 'días': 392, 'venideros': 393, 'preocupado': 394, 'recorrió': 395, 'caminos': 396, 'principio': 397, 'fin': 398, 'jamás': 399, 'cansado': 400, 'gritar': 401, 'cuatro': 402, 'vientos': 403, 'cabalgado': 404, 'algún': 405, 'ya': 406, 'dentro': 407, 'cama': 408, 'cuerpecito': 409, 'rendido': 410, 'llorado': 411, 'tenían': 412, 'brillo': 413, 'apenas': 414, 'podía': 415, 'sostener': 416, 'mirada': 417, 'querida': 418, 'ha': 419, 'pasado': 420, 'tengo': 421, 'terrible': 422, 'enfermedad': 423, 'mío': 424, 'pronunció': 425, 'labios': 426, 'grises': 427, 'mustios': 428, 'hay': 429, 'viejo': 430, 'gnomo': 431, 'otro': 432, 'lado': 433, 'tiene': 434, 'cura': 435, 'dolor': 436, 'párpados': 437, 'él': 438, 'llevaré': 439, 'sobre': 440, 'eres': 441, 'chico': 442, 'podrías': 443, 'terminó': 444, 'quedó': 445, 'atrapada': 446, 'moribundo': 447, 'afligido': 448, 'recostó': 449, 'pecho': 450, 'verdad': 451, 'era': 452, 'quisiera': 453, 'podría': 454, 'curarla': 455, 'apiadó': 456, 'comenzó': 457, 'beberse': 458, 'cabo': 459, 'unos': 460, 'minutos': 461, 'sintió': 462, 'estruendo': 463, 'cuerpo': 464, 'notó': 465, 'cabía': 466, 'trató': 467, 'enderezarse': 468, 'techo': 469, 'chocaba': 470, 'crecido': 471, 'increíblemente': 472, 'perder': 473, 'subió': 474, 'moribunda': 475, 'desprendió': 476, 'cruzar': 477, 'afortunadamente': 478, 'fue': 479, 'demasiado': 480, 'recuperarse': 481, 'fiel': 482, 'compañero': 483, 'abandonaron': 484, 'aurora': 485, 'princesa': 486, 'conocía': 487, 'luna': 488, 'princesita': 489, 'reino': 490, 'bondadosa': 491, 'dulce': 492, 'padres': 493, 'vivían': 494, 'consentían': 495, 'deseaba': 496, 'excepto': 497, 'anhelaba': 498, 'todas': 499, 'conocer': 500, 'reyes': 501, 'deseaban': 502, 'cumplir': 503, 'temían': 504, 'podrían': 505, 'hacerlo': 506, 'bruja': 507, 'malvada': 508, 'vivía': 509, 'aquel': 510, 'hechizado': 511, 'aún': 512, 'hechizo': 513, 'hacía': 514, 'cayera': 515, 'rendida': 516, 'caer': 517, 'quien': 518, 'mantuviese': 519, 'despierta': 520, 'anochecer': 521, 'pretendía': 522, 'joven': 523, 'asistir': 524, 'bailes': 525, 'fiestas': 526, 'príncipe': 527, 'herederos': 528, 'corona': 529, 'sería': 530, 'suya': 531, 'costumbres': 532, 'fueron': 533, 'adaptando': 534, 'pudiese': 535, 'vida': 536, 'normal': 537, 'cena': 538, 'preparaba': 539, 'cinco': 540, 'siempre': 541, 'traía': 542, 'corriendo': 543, 'cocineros': 544, 'hacían': 545, 'bastante': 546, 'inusual': 547, 'molesto': 548, 'esto': 549, 'seguían': 550, 'intentándolo': 551, 'hija': 552, 'conociera': 553, 'apasionaba': 554, 'cambiaban': 555, 'hora': 556, 'relojes': 557, 'cerraban': 558, 'cortinados': 559, 'intentaban': 560, 'despertarla': 561, 'funcionaba': 562, 'quedaba': 563, 'dormida': 564, 'quiera': 565, 'estuviese': 566, 'comenzaba': 567, 'creciendo': 568, 'convertirse': 569, 'jovencita': 570, 'cada': 571, 'cumpleaños': 572, 'pedía': 573, 'mismo': 574, 'deseo': 575, 'esperando': 576, 'rompiese': 577, 'cumplió': 578, 'dieciocho': 579, 'años': 580, 'hicieron': 581, 'gran': 582, 'celebración': 583, 'invitaron': 584, 'príncipes': 585, 'princesas': 586, 'todos': 587, 'reinos': 588, 'vecinos': 589, 'conoció': 590, 'bash': 591, 'apuesto': 592, 'caballero': 593, 'armadura': 594, 'brillante': 595, 'amor': 596, 'surgió': 597, 'chispa': 598, 'entre': 599, 'padecimiento': 600, 'apresuró': 601, 'decirle': 602, 'parecía': 603, 'volverla': 604, 'ver': 605, 'arrebatara': 606, 'comprometieron': 607, 'eran': 608, 'felices': 609, 'compartían': 610, 'luz': 611, 'les': 612, 'daba': 613, 'estar': 614, 'juntos': 615, 'veía': 616, 'tristeza': 617, 'empañaba': 618, 'aquella': 619, 'felicidad': 620, 'amada': 621, 'sabe': 622, 'consiguió': 623, 'pasada': 624, 'semana': 625, 'saco': 626, 'cuyo': 627, 'intensamente': 628, 'traído': 629, 'después': 630, 'tendría': 631, 'regresarla': 632, 'feliz': 633, 'ni': 634, 'poquito': 635, 'corazón': 636, 'logrando': 637, 'rompiera': 638, 'vivieron': 639, 'caperucita': 640, 'roja': 641, 'abuelita': 642, 'visitaba': 643, 'frecuencia': 644, 'aunque': 645, 'sabía': 646, 'coser': 647, 'bien': 648, 'hecha': 649, 'bonita': 650, 'caperuza': 651, 'quitaba': 652, 'llamaban': 653, 'mandó': 654, 'enferma': 655, 'llevara': 656, 'pasteles': 657, 'recién': 658, 'horneados': 659, 'cesta': 660, 'pan': 661, 'mantequilla': 662, 'anda': 663, 'sigue': 664, 'llévale': 665, 'esta': 666, 'preparado': 667, 'además': 668, 'advirtió': 669, 'apartes': 670, 'camino': 671, 'hables': 672, 'extraños': 673, 'puede': 674, 'peligroso': 675, 'obediente': 676, 'asintió': 677, 'contestó': 678, 'mamá': 679, 'preocupes': 680, 'tendré': 681, 'tomó': 682, 'cariñosamente': 683, 'emprendió': 684, 'cantando': 685, 'bailando': 686, 'acostumbraba': 687, 'lobo': 688, 'dónde': 689, 'vas': 690, 'prisascuento': 691, 'miró': 692, 'pensó': 693, 'pedido': 694, 'temor': 695, 'alguno': 696, 'recelo': 697, 'está': 698, 'enfermita': 699, 'replicó': 700, 'd': 701, 'ó': 702, 'nde': 703, 'vive': 704, 'termina': 705, 'claro': 706, 'rodeado': 707, 'grandes': 708, 'robles': 709, 'respondió': 710, 'sospechar': 711, 'deleitaba': 712, 'pensando': 713, 'sabría': 714, 'decidido': 715, 'comerse': 716, 'mejor': 717, 'primero': 718, 'tomaba': 719, 'aperitivo': 720, 'debe': 721, 'jugosa': 722, 'tierna': 723, 'igual': 724, 'servirá': 725, 'ideaba': 726, 'plan': 727, 'acompañaba': 728, 'astutamente': 729, 'sugirió': 730, 'sabes': 731, 'haría': 732, 'realmente': 733, 'llevas': 734, 'algunas': 735, 'flores': 736, 'crecen': 737, 'también': 738, 'buena': 739, 'idea': 740, 'recordó': 741, 'nuevamente': 742, 'palabras': 743, 'es': 744, 'apartara': 745, 'ves': 746, 'atajo': 747, 'llegarás': 748, 'rápido': 749, 'imaginar': 750, 'engañado': 751, 'aceptó': 752, 'dirigió': 753, 'abuela': 754, 'engañó': 755, 'haciéndole': 756, 'creer': 757, 'nieta': 758, 'devorar': 759, 'puso': 760, 'gorro': 761, 'camisón': 762, 'metió': 763, 'esperar': 764, 'llegase': 765, 'plato': 766, 'principal': 767, 'comida': 768, 'pocos': 769, 'llegó': 770, 'alegremente': 771, 'llamó': 772, 'puerta': 773, 'nadie': 774, 'respondía': 775, 'entró': 776, 'acercó': 777, 'lentamente': 778, 'tumbada': 779, 'aspecto': 780, 'irreconocible': 781, 'cuento': 782, 'infantil': 783, 'tienes': 784, 'extrañeza': 785, 'son': 786, 'verte': 787, 'imitando': 788, 'esfuerzo': 789, 'orejas': 790, 'entender': 791, 'lucía': 792, 'cambiada': 793, 'oírte': 794, 'decir': 795, 'comerte': 796, 'mejooooooooor': 797, 'chilló': 798, 'diciendo': 799, 'abalanzó': 800, 'comió': 801, 'hecho': 802, 'sucedía': 803, 'cazador': 804, 'oyó': 805, 'grito': 806, 'algunos': 807, 'cabaña': 808, 'durmiendo': 809, 'siesta': 810, 'panza': 811, 'enorme': 812, 'harto': 813, 'dudó': 814, 'disparar': 815, 'malvado': 816, 'escopeta': 817, 'usar': 818, 'cuchillo': 819, 'caza': 820, 'abrir': 821, 'quién': 822, 'comido': 823, 'bribón': 824, 'cortes': 825, 'sacar': 826, 'quienes': 827, 'estaban': 828, 'vivas': 829, 'decidieron': 830, 'escarmiento': 831, 'llenaron': 832, 'piedras': 833, 'despertarse': 834, 'sed': 835, 'sido': 836, 'mala': 837, 'digestión': 838, 'trabajo': 839, 'arroyo': 840, 'cercano': 841, 'tambaleó': 842, 'cayó': 843, 'ahogó': 844, 'peso': 845, 'aprendió': 846, 'lección': 847, 'pidió': 848, 'perdón': 849, 'desobedecerla': 850, 'adelante': 851, 'volvería': 852, 'conversar': 853, 'o': 854, 'entretenerse': 855, 'lluvia': 856, 'cuentan': 857, 'hace': 858, 'muchísimo': 859, 'gota': 860, 'cansó': 861, 'quiso': 862, 'navegar': 863, 'aires': 864, 'pájaros': 865, 'mundo': 866, 'visitar': 867, 'otras': 868, 'tierras': 869, 'gotica': 870, 'ayudara': 871, 'astro': 872, 'rey': 873, 'ayúdame': 874, 'elevarme': 875, 'calentó': 876, 'rayos': 877, 'poco': 878, 'convirtiendo': 879, 'vapor': 880, 'gas': 881, 'elevó': 882, 'arriba': 883, 'incluso': 884, 'otros': 885, 'rincones': 886, 'mares': 887, 'montañas': 888, 'anduvo': 889, 'alto': 890, 'visitó': 891, 'lugares': 892, 'desconocidos': 893, 'amistades': 894, 'viento': 895, 'ponía': 896, 'danzar': 897, 'azul': 898, 'sentirse': 899, 'sola': 900, 'contar': 901, 'compañía': 902, 'belleza': 903, 'tierra': 904, 'vista': 905, 'nuestra': 906, 'goticas': 907, 'acompañaran': 908, 'aventura': 909, 'bajar': 910, 'buscarlas': 911, 'compartir': 912, 'ellas': 913, 'vivido': 914, 'buscar': 915, 'amigas': 916, 'sopló': 917, 'aire': 918, 'frío': 919, 'congeló': 920, 'volverse': 921, 'pesada': 922, 'pronto': 923, 'descender': 924, 'alturas': 925, 'aterrizar': 926, 'campo': 927, 'trigo': 928, 'despertaban': 929, 'hechas': 930, 'mañanero': 931, 'queridas': 932, 'acompáñenme': 933, 'gritó': 934, 'estuvieron': 935, 'acuerdo': 936, 'convirtieron': 937, 'nube': 938, 'pasar': 939, 'quisieron': 940, 'contarles': 941, 'habían': 942, 'visto': 943, 'llueve': 944, 'significa': 945, 'bailar': 946, 'abad': 947, 'tres': 948, 'enigmas': 949, 'cierta': 950, 'existió': 951, 'monasterio': 952, 'lejano': 953, 'situado': 954, 'colina': 955, 'monjes': 956, 'humildes': 957, 'dedicaban': 958, 'pastorear': 959, 'ovejas': 960, 'meditar': 961, 'profundamente': 962, 'cargo': 963, 'tonto': 964, 'necio': 965, 'descuidaba': 966, 'labores': 967, 'prefería': 968, 'pasarse': 969, 'dormitando': 970, 'oliendo': 971, 'obispo': 972, 'enteró': 973, 'pereza': 974, 'llamar': 975, 'inmediatamente': 976, 'rendir': 977, 'cuentas': 978, 'comprobar': 979, 'asunto': 980, 'fea': 981, 'mentira': 982, 'deberás': 983, 'resolver': 984, 'estos': 985, 'plazo': 986, 'año': 987, 'ante': 988, 'anciano': 989, 'continuación': 990, 'cuánto': 991, 'tardaría': 992, 'vuelta': 993, 'dinero': 994, 'valdría': 995, 'decidiera': 996, 'venderme': 997, 'sorprendido': 998, 'preguntas': 999, 'retornaba': 1000, 'pensaba': 1001, 'respuesta': 1002, 'alguna': 1003, 'meses': 1004, 'paseaba': 1005, 'pastorcillo': 1006, 'ayudarle': 1007, 'aquellas': 1008, 'difíciles': 1009, 'partió': 1010, 'disfrazado': 1011, 'vestimentas': 1012, 'ilustrísimo': 1013, 'usted': 1014, 'caminara': 1015, 'deprisa': 1016, 'tomaría': 1017, 'veinticuatro': 1018, 'inquirió': 1019, 'seguidamente': 1020, 'falso': 1021, 'mitad': 1022, 'pagaron': 1023, 'jesucristo': 1024, 'exactamente': 1025, 'quince': 1026, 'monedas': 1027, 'lanzó': 1028, 'pregunta': 1029, 'jovenzuelo': 1030, 'retirando': 1031, 'capucha': 1032, 'pues': 1033, 'verdadero': 1034, 'nombró': 1035, 'nuevo': 1036, 'perezoso': 1037, 'debería': 1038, 'resto': 1039, 'pastoreando': 1040, 'mágica': 1041, 'antiguo': 1042, 'tenía': 1043, 'hijos': 1044, 'buen': 1045, 'paso': 1046, 'perdió': 1047, 'ganas': 1048, 'comer': 1049, 'reír': 1050, 'preocupados': 1051, 'salud': 1052, 'padre': 1053, 'buscaban': 1054, 'cualquier': 1055, 'remedio': 1056, 'curarlo': 1057, 'intentos': 1058, 'vano': 1059, 'sabían': 1060, 'extraño': 1061, 'vuestro': 1062, 'sufre': 1063, 'grave': 1064, 'desapareció': 1065, 'dudarlo': 1066, 'segundo': 1067, 'mayor': 1068, 'hermanos': 1069, 'ensilló': 1070, 'caballo': 1071, 'velocidad': 1072, 'tropezó': 1073, 'duendecillo': 1074, 'cruzaba': 1075, 'justo': 1076, 'duende': 1077, 'ti': 1078, 'diablos': 1079, 'importa': 1080, 'enano': 1081, 'quítate': 1082, 'contemplación': 1083, 'criatura': 1084, 'enfureció': 1085, 'maldijo': 1086, 'desviando': 1087, 'encantado': 1088, 'hermano': 1089, 'regresaba': 1090, 'mediano': 1091, 'ensillar': 1092, 'mágico': 1093, 'aparta': 1094, 'imbécil': 1095, 'estúpidas': 1096, 'enfado': 1097, 'maldición': 1098, 'enviándolo': 1099, 'probar': 1100, 'suerte': 1101, 'tras': 1102, 'verlo': 1103, 'curar': 1104, 'gravemente': 1105, 'enfermo': 1106, 'menor': 1107, 'pueda': 1108, 'encontrarla': 1109, 'diré': 1110, 'alegría': 1111, 'alguien': 1112, 'tratado': 1113, 'respeto': 1114, 'consideración': 1115, 'breve': 1116, 'explicación': 1117, 'entendió': 1118, 'marcha': 1119, 'caminando': 1120, 'embrujado': 1121, 'entrada': 1122, 'existían': 1123, 'leones': 1124, 'enormes': 1125, 'feroces': 1126, 'tuvo': 1127, 'miedo': 1128, 'dado': 1129, 'varita': 1130, 'panes': 1131, 'sirvieron': 1132, 'entretener': 1133, 'entrar': 1134, 'doce': 1135, 'cerrarán': 1136, 'quedarás': 1137, 'date': 1138, 'prisa': 1139, 'demores': 1140, 'atravesar': 1141, 'largo': 1142, 'pasillo': 1143, 'fuente': 1144, 'recogió': 1145, 'frasco': 1146, 'cristal': 1147, 'dispuso': 1148, 'rubios': 1149, 'oro': 1150, 'venir': 1151, 'rescatarme': 1152, 'llevo': 1153, 'pensé': 1154, 'sé': 1155, 'vienes': 1156, 'convertiré': 1157, 'esposa': 1158, 'dicho': 1159, 'aquello': 1160, 'apurarse': 1161, 'prometerle': 1162, 'regresaría': 1163, 'buscarla': 1164, 'regreso': 1165, 'topó': 1166, 'agradeció': 1167, 'favor': 1168, 'trajera': 1169, 'malo': 1170, 'liberó': 1171, 'mayores': 1172, 'regresaron': 1173, 'recuperó': 1174, 'celebrar': 1175, 'sanación': 1176, 'convocó': 1177, 'banquete': 1178, 'mostraba': 1179, 'pensativo': 1180, 'podido': 1181, 'olvidar': 1182, 'contó': 1183, 'historia': 1184, 'envidiosos': 1185, 'adelantaron': 1186, 'rescatar': 1187, 'manera': 1188, 'jovenzuelos': 1189, 'llegaron': 1190, 'colocado': 1191, 'larga': 1192, 'alfombra': 1193, 'advirtiéndole': 1194, 'guardias': 1195, 'dejaran': 1196, 'dicha': 1197, 'estropear': 1198, 'caminar': 1199, 'borde': 1200, 'negaron': 1201, 'otra': 1202, 'atravesó': 1203, 'darse': 1204, 'cuenta': 1205, 'descansaba': 1206, 'piso': 1207, 'demostrado': 1208, 'triunfa': 1209, 'encima': 1210, 'demás': 1211, 'supuesto': 1212, 'jóvenes': 1213, 'casaron': 1214, 'carrete': 1215, 'inquieto': 1216, 'travieso': 1217, 'gustaba': 1218, 'estudiar': 1219, 'reprendían': 1220, 'lamentaba': 1221, 'cuarto': 1222, 'ventana': 1223, 'bobina': 1224, 'hilos': 1225, 'sorprendida': 1226, 'principito': 1227, 'habló': 1228, 'melodiosa': 1229, 'escuchado': 1230, 'deseos': 1231, 'crecer': 1232, 'oportunidad': 1233, 'medida': 1234, 'desenrolles': 1235, 'podrás': 1236, 'avanzar': 1237, 'ten': 1238, 'hilo': 1239, 'suelta': 1240, 'regresa': 1241, 'podrá': 1242, 'recuperado': 1243, 'poder': 1244, 'resistir': 1245, 'curiosidad': 1246, 'tiró': 1247, 'instante': 1248, 'convertido': 1249, 'gallardo': 1250, 'robusto': 1251, 'entusiasmo': 1252, 'tirar': 1253, 'exclamaba': 1254, 'quiero': 1255, 'lucirán': 1256, 'señora': 1257, 'reina': 1258, 'impaciente': 1259, 'estiraba': 1260, 'mujer': 1261, 'chiquilines': 1262, 'hermosos': 1263, 'gordos': 1264, 'incontenible': 1265, 'serían': 1266, 'tramo': 1267, 'pálidas': 1268, 'débiles': 1269, 'espejo': 1270, 'consumido': 1271, 'seco': 1272, 'desenrollado': 1273, 'devolverlo': 1274, 'advertido': 1275, 'imposible': 1276, 'infeliz': 1277, 'vivir': 1278, 'momentos': 1279, 'decidiste': 1280, 'pasarlos': 1281, 'malgastado': 1282, 'inútilmente': 1283, 'puedas': 1284, 'pagar': 1285, 'insolencia': 1286, 'disfrutar': 1287, 'corta': 1288, 'vejez': 1289, 'murió': 1290, 'alcoba': 1291, 'haber': 1292, 'desperdiciado': 1293, 'vivirla': 1294, 'cerdito': 1295, 'color': 1296, 'granja': 1297, 'convivía': 1298, 'familia': 1299, 'cerdos': 1300, 'causa': 1301, 'radicaba': 1302, 'cuanto': 1303, 'necesitaban': 1304, 'plenamente': 1305, 'faltaba': 1306, 'pienso': 1307, 'ningún': 1308, 'alimento': 1309, 'tampoco': 1310, 'barro': 1311, 'revolcarse': 1312, 'divertirse': 1313, 'lindo': 1314, 'esa': 1315, 'armonía': 1316, 'rompió': 1317, 'suceso': 1318, 'explicar': 1319, 'cerdas': 1320, 'bellas': 1321, 'camada': 1322, 'cerditos': 1323, 'bonitos': 1324, 'uno': 1325, 'misteriosamente': 1326, 'habitual': 1327, 'ejemplar': 1328, 'especie': 1329, 'reaccionaron': 1330, 'inmediato': 1331, 'misma': 1332, 'rechazaban': 1333, 'diferente': 1334, 'sentido': 1335, 'marginaban': 1336, 'rutinas': 1337, 'normalmente': 1338, 'desarrollaban': 1339, 'preocupó': 1340, 'consideraba': 1341, 'dejasen': 1342, 'chiquito': 1343, 'participaba': 1344, 'actividades': 1345, 'arreglaba': 1346, 'divertidos': 1347, 'ello': 1348, 'encaramaba': 1349, 'árboles': 1350, 'tejado': 1351, 'dejaba': 1352, 'pilas': 1353, 'paja': 1354, 'entraba': 1355, 'granero': 1356, 'gallinas': 1357, 'sinfín': 1358, 'comunes': 1359, 'cerdo': 1360, 'gustara': 1361, 'podían': 1362, 'porque': 1363, 'pasaron': 1364, 'pequeños': 1365, 'fuertes': 1366, 'siguió': 1367, 'siendo': 1368, 'marginado': 1369, 'comprendió': 1370, 'rechazo': 1371, 'debía': 1372, 'diferencia': 1373, 'leve': 1374, 'extravagante': 1375, 'hubiese': 1376, 'entendimiento': 1377, 'provocó': 1378, 'durante': 1379, 'muchos': 1380, 'obstante': 1381, 'repuso': 1382, 'ánimo': 1383, 'retomó': 1384, 'intensidad': 1385, 'tener': 1386, 'soportaron': 1387, 'ellos': 1388, 'roto': 1389, 'familiar': 1390, 'ahora': 1391, 'abochornaba': 1392, 'extravagancias': 1393, 'conducta': 1394, 'impropias': 1395, 'suficiente': 1396, 'eso': 1397, 'mancillaba': 1398, 'prestigio': 1399, 'armónica': 1400, 'rosadita': 1401, 'cansados': 1402, 'expulsarlo': 1403, 'dijeron': 1404, 'marchara': 1405, 'engendro': 1406, 'naturaleza': 1407, 'deshonraba': 1408, 'atrevía': 1409, 'pasaría': 1410, 'mal': 1411, 'reponerse': 1412, 'obligado': 1413, 'vio': 1414, 'nacer': 1415, 'consecuencia': 1416, 'vagar': 1417, 'rumbo': 1418, 'fijo': 1419, 'destino': 1420, 'andar': 1421, 'desandar': 1422, 'denso': 1423, 'pareja': 1424, 'ciervos': 1425, 'cornamenta': 1426, 'majestuosos': 1427, 'atrevió': 1428, 'interrumpir': 1429, 'esquina': 1430, 'descampado': 1431, 'viejos': 1432, 'percataron': 1433, 'presencia': 1434, 'observaron': 1435, 'detenidamente': 1436, 'mezcla': 1437, 'asombro': 1438, 'gracia': 1439, 'admiración': 1440, 'curioso': 1441, 'tierno': 1442, 'sollozando': 1443, 'acercaron': 1444, 'preguntaron': 1445, 'acongojaba': 1446, 'tono': 1447, 'esperanza': 1448, 'ganó': 1449, 'solidaridad': 1450, 'sentimiento': 1451, 'casualmente': 1452, 'descendencia': 1453, 'vieron': 1454, 'extraña': 1455, 'agradable': 1456, 'despertaba': 1457, 'instintos': 1458, 'maternal': 1459, 'paternal': 1460, 'propusieron': 1461, 'viviese': 1462, 'distintas': 1463, 'causas': 1464, 'privados': 1465, 'gustoso': 1466, 'habita': 1467, 'bellos': 1468, 'han': 1469, 'insólita': 1470, 'tirados': 1471, 'descansando': 1472, 'disfrutando': 1473, 'baño': 1474, 'laguna': 1475, 'correteando': 1476, 'radiando': 1477, 'libertad': 1478, 'demuestra': 1479, 'cuán': 1480, 'seamos': 1481, 'cosas': 1482, 'hayamos': 1483, 'realización': 1484, 'nuestras': 1485, 'vidas': 1486, 'radican': 1487, 'nosotros': 1488, 'mismos': 1489, 'acciones': 1490, 'hagamos': 1491, 'potenciarlas': 1492, 'hacerlas': 1493, 'extensivas': 1494, 'luisa': 1495, 'pueblito': 1496, 'tristonia': 1497, 'cuyos': 1498, 'habitantes': 1499, 'pobres': 1500, 'vestir': 1501, 'pobreza': 1502, 'personas': 1503, 'bondadosas': 1504, 'tuviesen': 1505, 'efecto': 1506, 'andaban': 1507, 'tristes': 1508, 'esperaban': 1509, 'impaciencia': 1510, 'llegada': 1511, 'fecha': 1512, 'hada': 1513, 'aparecía': 1514, 'conceder': 1515, 'persona': 1516, 'tuviese': 1517, 'bondadoso': 1518, 'llamada': 1519, 'levantaba': 1520, 'temprano': 1521, 'trabajar': 1522, 'obtener': 1523, 'brindarla': 1524, 'buenas': 1525, 'campesina': 1526, 'lograr': 1527, 'abundante': 1528, 'terminaba': 1529, 'época': 1530, 'cosecha': 1531, 'repartía': 1532, 'obtenido': 1533, 'partes': 1534, 'iguales': 1535, 'porción': 1536, 'alimentos': 1537, 'alma': 1538, 'generosa': 1539, 'compadecía': 1540, 'seres': 1541, 'sufría': 1542, 'niños': 1543, 'iban': 1544, 'último': 1545, 'impacientes': 1546, 'aparición': 1547, 'concediera': 1548, 'impacientarse': 1549, 'abrió': 1550, 'descendiendo': 1551, 'noble': 1552, 'figura': 1553, 'mirar': 1554, 'ciudadanos': 1555, 'saben': 1556, 'cultivar': 1557, 'dar': 1558, 'ciudad': 1559, 'aplaudieron': 1560, 'emocionadas': 1561, 'realidad': 1562, 'gato': 1563, 'botas': 1564, 'molinero': 1565, 'posesiones': 1566, 'dejarles': 1567, 'muriera': 1568, 'molino': 1569, 'asno': 1570, 'lecho': 1571, 'muerte': 1572, 'reparto': 1573, 'herencia': 1574, 'míos': 1575, 'morir': 1576, 'hijo': 1577, 'tocó': 1578, 'sustento': 1579, 'dejó': 1580, 'burro': 1581, 'encargaba': 1582, 'acarrear': 1583, 'grano': 1584, 'transportar': 1585, 'harina': 1586, 'cazar': 1587, 'ratones': 1588, 'botasel': 1589, 'e': 1590, 'inconforme': 1591, 'recibido': 1592, 'peor': 1593, 'salido': 1594, 'servir': 1595, 'alta': 1596, 'alcance': 1597, 'amo': 1598, 'das': 1599, 'bolso': 1600, 'par': 1601, 'podremos': 1602, 'recorrer': 1603, 'verás': 1604, 'cuántas': 1605, 'riquezas': 1606, 'conseguiremos': 1607, 'esperanzas': 1608, 'promesas': 1609, 'moriría': 1610, 'hambre': 1611, 'depender': 1612, 'dio': 1613, 'caminaron': 1614, 'país': 1615, 'perdices': 1616, 'escurridizas': 1617, 'imposibles': 1618, 'conseguir': 1619, 'sombra': 1620, 'árbol': 1621, 'bolsa': 1622, 'esparció': 1623, 'granos': 1624, 'quedaban': 1625, 'escondió': 1626, 'llevaba': 1627, 'acechando': 1628, 'aparecieron': 1629, 'grupo': 1630, 'encontraron': 1631, 'metiendo': 1632, 'comérselo': 1633, 'suficientes': 1634, 'cuerda': 1635, 'oculta': 1636, 'cerrando': 1637, 'dejando': 1638, 'atrapadas': 1639, 'hombro': 1640, 'entregárselas': 1641, 'presentó': 1642, 'marqués': 1643, 'carabás': 1644, 'envía': 1645, 'obsequio': 1646, 'ocurrió': 1647, 'complacido': 1648, 'oferta': 1649, 'agradeciera': 1650, 'seguía': 1651, 'mandándole': 1652, 'regalos': 1653, 'parte': 1654, 'iba': 1655, 'pasear': 1656, 'ribera': 1657, 'sigues': 1658, 'corriente': 1659, 'fortuna': 1660, 'ropa': 1661, 'métete': 1662, 'escuchó': 1663, 'gritando': 1664, 'ahoga': 1665, 'robado': 1666, 'ropas': 1667, 'leer': 1668, 'atraído': 1669, 'gritos': 1670, 'trataba': 1671, 'tantos': 1672, 'obsequios': 1673, 'enviado': 1674, 'envolvió': 1675, 'delicadas': 1676, 'carruaje': 1677, 'acompañara': 1678, 'paseo': 1679, 'astuto': 1680, 'adelantó': 1681, 'comitiva': 1682, 'real': 1683, 'temido': 1684, 'ogro': 1685, 'encontraban': 1686, 'trabajando': 1687, 'campesinos': 1688, 'amenazó': 1689, 'diciéndoles': 1690, 'pase': 1691, 'pregunte': 1692, 'estas': 1693, 'deberán': 1694, 'responder': 1695, 'pertenecen': 1696, 'sino': 1697, 'morirán': 1698, 'cruzó': 1699, 'pertenecían': 1700, 'contestaron': 1701, 'sentía': 1702, 'reclamarlo': 1703, 'adularan': 1704, 'anunció': 1705, 'pretexto': 1706, 'viajado': 1707, 'presentarle': 1708, 'respetos': 1709, 'estuvo': 1710, 'capaz': 1711, 'clase': 1712, 'ejemplo': 1713, 'elefante': 1714, 'halagado': 1715, 'transformó': 1716, 'rugiente': 1717, 'demostrarlo': 1718, 'sorprendente': 1719, 'increíble': 1720, 'impresionaría': 1721, 'pudieras': 1722, 'transformarte': 1723, 'pequeñito': 1724, 'ratón': 1725, 'poderoso': 1726, 'ansioso': 1727, 'impresionar': 1728, 'convirtió': 1729, 'diminuto': 1730, 'reclamó': 1731, 'circundantes': 1732, 'nombrado': 1733, 'marques': 1734, 'recibió': 1735, 'impresionado': 1736, 'lujo': 1737, 'majestuosidad': 1738, 'propuso': 1739, 'matrimonio': 1740, 'gobernó': 1741, 'primer': 1742, 'ministro': 1743, 'soñaba': 1744, 'alcanzar': 1745, 'pueblo': 1746, 'casas': 1747, 'madera': 1748, 'calles': 1749, 'piedra': 1750, 'gatos': 1751, 'acompañaban': 1752, 'dueños': 1753, 'acariciaban': 1754, 'daban': 1755, 'saltando': 1756, 'tamaños': 1757, 'razas': 1758, 'extrañas': 1759, 'fígaro': 1760, 'especial': 1761, 'pelaje': 1762, 'blanco': 1763, 'negros': 1764, 'bigotes': 1765, 'felinos': 1766, 'perseguían': 1767, 'jugueteaban': 1768, 'tejados': 1769, 'contemplar': 1770, 'largas': 1771, 'anonadado': 1772, 'viendo': 1773, 'plateado': 1774, 'bañaba': 1775, 'mirarla': 1776, 'decían': 1777, 'entendían': 1778, 'interés': 1779, 'importaba': 1780, 'rutinaria': 1781, 'aburría': 1782, 'misteriosa': 1783, 'distante': 1784, 'redonda': 1785, 'soñar': 1786, 'alcanzarla': 1787, 'abrazarla': 1788, 'magia': 1789, 'permitía': 1790, 'transformarse': 1791, 'calipso': 1792, 'preocupaba': 1793, 'olvidara': 1794, 'obsesión': 1795, 'disfrutaba': 1796, 'hablando': 1797, 'decía': 1798, 'dejaron': 1799, 'hacerle': 1800, 'caso': 1801, 'escucharlo': 1802, 'suspirar': 1803, 'encontrarle': 1804, 'ido': 1805, 'perseguir': 1806, 'sueños': 1807, 'habrá': 1808, 'alcanzado': 1809, 'preguntaba': 1810, 'nostálgica': 1811, 'llena': 1812, 'miras': 1813, 'detenimiento': 1814, 'manchas': 1815, 'oscuras': 1816, 'distinguen': 1817, 'alargados': 1818, 'dicen': 1819, 'forma': 1820, 'pueden': 1821, 'aquellos': 1822, 'tienen': 1823, 'soñadores': 1824, 'egoísta': 1825, 'salían': 1826, 'correteaban': 1827, 'saltaban': 1828, 'bañaban': 1829, 'ríos': 1830, 'unidos': 1831, 'calor': 1832, 'brindaba': 1833, 'alejaron': 1834, 'inmenso': 1835, 'resguardado': 1836, 'altos': 1837, 'muros': 1838, 'treparon': 1839, 'adentraron': 1840, 'jardín': 1841, 'varias': 1842, 'juego': 1843, 'sintieron': 1844, 'adentro': 1845, 'hacen': 1846, 'asaltados': 1847, 'quedaron': 1848, 'inmóviles': 1849, 'mirando': 1850, 'seguida': 1851, 'asomó': 1852, 'horroroso': 1853, 'amarillos': 1854, 'rufianes': 1855, 'ande': 1856, 'merodeando': 1857, 'atrevan': 1858, 'regresar': 1859, 'salieron': 1860, 'disparados': 1861, 'lejanía': 1862, 'asegurarse': 1863, 'intruso': 1864, 'penetraría': 1865, 'reforzó': 1866, 'plantas': 1867, 'repletas': 1868, 'espinas': 1869, 'gruesas': 1870, 'cadenas': 1871, 'dejaban': 1872, 'malhumorado': 1873, 'colocó': 1874, 'cartel': 1875, 'leía': 1876, 'medidas': 1877, 'dieron': 1878, 'vencidos': 1879, 'acercaban': 1880, 'sigilosos': 1881, 'regresaban': 1882, 'primavera': 1883, 'arribó': 1884, 'verano': 1885, 'otoño': 1886, 'invierno': 1887, 'nieve': 1888, 'aportó': 1889, 'sombrío': 1890, 'feo': 1891, 'arreciaban': 1892, 'ventanas': 1893, 'permanecía': 1894, 'sentado': 1895, 'sillón': 1896, 'deseando': 1897, 'regresara': 1898, 'gozó': 1899, 'penetró': 1900, 'guaridas': 1901, 'poblar': 1902, 'llenar': 1903, 'región': 1904, 'sucedió': 1905, 'reinando': 1906, 'asomado': 1907, 'verdosas': 1908, 'desdicha': 1909, 'menos': 1910, 'espacio': 1911, 'vacío': 1912, 'tumbó': 1913, 'quedado': 1914, 'fuese': 1915, 'cantar': 1916, 'asombrado': 1917, 'creerlo': 1918, 'esbozó': 1919, 'ofrecían': 1920, 'verdes': 1921, 'hermosas': 1922, 'jugando': 1923, 'pude': 1924, 'siento': 1925, 'gritaba': 1926, 'descendía': 1927, 'escaleras': 1928, 'pequeñines': 1929, 'trepaban': 1930, 'divertían': 1931, 'trepar': 1932, 'compadecido': 1933, 'niño': 1934, 'ayudarlo': 1935, 'tendió': 1936, 'subir': 1937, 'eliminó': 1938, 'muro': 1939, 'impedían': 1940, 'expulsará': 1941, 'apresuraron': 1942, 'marchitaron': 1943, 'tornó': 1944, 'gris': 1945, 'llenarse': 1946, 'llorara': 1947, 'cambio': 1948, 'quedarse': 1949, 'permanecían': 1950, 'escondidos': 1951, 'comprendieron': 1952, 'expulsados': 1953, 'apresuran': 1954, 'volar': 1955, 'habitaban': 1956, 'mágicos': 1957, 'horribles': 1958, 'ogros': 1959, 'elfos': 1960, 'oreja': 1961, 'puntiaguda': 1962, 'hadas': 1963, 'reinaba': 1964, 'paz': 1965, 'existía': 1966, 'blancos': 1967, 'hermanas': 1968, 'nacido': 1969, 'alas': 1970, 'inés': 1971, 'llamaba': 1972, 'mucha': 1973, 'alzaban': 1974, 'reían': 1975, 'placer': 1976, 'volando': 1977, 'empinándose': 1978, 'nubes': 1979, 'habitan': 1980, 'ranas': 1981, 'conejos': 1982, 'enseñaron': 1983, 'escondrijos': 1984, 'pasadizos': 1985, 'secretos': 1986, 'transcurría': 1987, 'tranquilidad': 1988, 'humanos': 1989, 'irrumpieron': 1990, 'espadas': 1991, 'odio': 1992, 'sembraron': 1993, 'caos': 1994, 'desesperadas': 1995, 'corrieron': 1996, 'salvar': 1997, 'hombres': 1998, 'lograban': 1999, 'capturarlas': 2000, 'encerrarlas': 2001, 'jaulas': 2002, 'corrió': 2003, 'indicó': 2004, 'túnel': 2005, 'secreto': 2006, 'escapar': 2007, 'rotundamente': 2008, 'mayoría': 2009, 'quebraron': 2010, 'escaparon': 2011, 'ponerse': 2012, 'agradecieron': 2013, 'valerosa': 2014, 'haberlas': 2015, 'salvado': 2016, 'menospreciarla': 2017, 'jorobado': 2018, 'notre': 2019, 'dame': 2020, 'punto': 2021, 'parís': 2022, 'lejana': 2023, 'trata': 2024, 'leyenda': 2025, 'mantuvo': 2026, 'catedral': 2027, 'edificio': 2028, 'deslumbrante': 2029, 'cuyas': 2030, 'torres': 2031, 'paredes': 2032, 'encerraban': 2033, 'misterio': 2034, 'aseguraban': 2035, 'pocas': 2036, 'comerciantes': 2037, 'merodeaban': 2038, 'horrorizaban': 2039, 'silueta': 2040, 'desplazaba': 2041, 'campanas': 2042, 'ancianos': 2043, 'espíritu': 2044, 'temible': 2045, 'bestia': 2046, 'peluda': 2047, 'expulsaba': 2048, 'cosa': 2049, 'humano': 2050, 'común': 2051, 'peculiar': 2052, 'deformidad': 2053, 'espalda': 2054, 'quasimodo': 2055, 'tímido': 2056, 'condenado': 2057, 'primeros': 2058, 'acostumbrado': 2059, 'soledad': 2060, 'campanario': 2061, 'dedicaba': 2062, 'repicar': 2063, 'mantener': 2064, 'limpio': 2065, 'frollo': 2066, 'encargado': 2067, 'según': 2068, 'maltrataba': 2069, 'muchacho': 2070, 'cariño': 2071, 'creció': 2072, 'celebraba': 2073, 'festival': 2074, 'bufones': 2075, 'participar': 2076, 'fiesta': 2077, 'comienzo': 2078, 'aceptado': 2079, 'avanzaba': 2080, 'reconocer': 2081, 'amables': 2082, 'avanzado': 2083, 'espectáculo': 2084, 'maravilloso': 2085, 'danza': 2086, 'seductora': 2087, 'interpretada': 2088, 'gitana': 2089, 'esmeralda': 2090, 'amable': 2091, 'invitó': 2092, 'unirse': 2093, 'capitán': 2094, 'febo': 2095, 'enamorado': 2096, 'entabló': 2097, 'resultó': 2098, 'detestable': 2099, 'enardecido': 2100, 'rencor': 2101, 'apresar': 2102, 'recibieran': 2103, 'castigo': 2104, 'inmerecido': 2105, 'castigado': 2106, 'permaneció': 2107, 'encadenado': 2108, 'moverse': 2109, 'maldad': 2110, 'pureza': 2111, 'condenados': 2112, 'reunieron': 2113, 'torno': 2114, 'yacían': 2115, 'encadenados': 2116, 'estrado': 2117, 'enamorados': 2118, 'verdugo': 2119, 'ejecutarlos': 2120, 'sonido': 2121, 'librado': 2122, 'agilidad': 2123, 'liberarlos': 2124, 'apoyar': 2125, 'llenó': 2126, 'ira': 2127, 'rápidamente': 2128, 'reunidos': 2129, 'abrazo': 2130, 'lograron': 2131, 'sonreír': 2132, 'primera': 2133, 'reunidas': 2134, 'sumaron': 2135, 'gritaban': 2136, 'aplaudían': 2137, 'heroísmo': 2138, 'respecto': 2139, 'librarse': 2140, 'castigos': 2141, 'héroe': 2142, 'poseía': 2143, 'puro': 2144, 'leñador': 2145, 'honrado': 2146, 'humilde': 2147, 'reunirse': 2148, 'suyos': 2149, 'puente': 2150, 'hacha': 2151, 'angustiado': 2152, 'fondo': 2153, 'ninfa': 2154, 'centelleante': 2155, 'lamentes': 2156, 'hombre': 2157, 'traeré': 2158, 'devuelta': 2159, 'sumergió': 2160, 'reapareció': 2161, 'mostrarle': 2162, 'trajo': 2163, 'plata': 2164, 'penosa': 2165, 'tercer': 2166, 'intento': 2167, 'hierro': 2168, 'sí': 2169, 'profunda': 2170, 'premiarlo': 2171, 'mentiras': 2172, 'regalaré': 2173, 'hachas': 2174, 'ven': 2175, 'amiguitos': 2176, 'ganan': 2177, 'honestos': 2178, 'creía': 2179, 'cordero': 2180, 'machismos': 2181, 'físico': 2182, 'demostraba': 2183, 'pertenecía': 2184, 'raza': 2185, 'argumento': 2186, 'situación': 2187, 'culpa': 2188, 'responsabilidad': 2189, 'cigüeña': 2190, 'entregas': 2191, 'nacimiento': 2192, 'mamás': 2193, 'ansiosas': 2194, 'recibir': 2195, 'corderitos': 2196, 'entregarlos': 2197, 'abalanzaron': 2198, 'llevaron': 2199, 'mantitas': 2200, 'sucedido': 2201, 'retirar': 2202, 'mantita': 2203, 'cubría': 2204, 'pequeñuelo': 2205, 'asombrada': 2206, 'equivocado': 2207, 'oveja': 2208, 'alarmada': 2209, 'revisar': 2210, 'cuaderno': 2211, 'notas': 2212, 'ahí': 2213, 'guardaba': 2214, 'pedidos': 2215, 'realizaban': 2216, 'ave': 2217, 'error': 2218, 'cometido': 2219, 'agenda': 2220, 'finalice': 2221, 'entrega': 2222, 'debo': 2223, 'llevarle': 2224, 'doña': 2225, 'leona': 2226, 'leoncia': 2227, 'pérez': 2228, 'notar': 2229, 'recoger': 2230, 'cachorrito': 2231, 'llevarlo': 2232, 'hogar': 2233, 'sorprendió': 2234, 'explicarle': 2235, 'quería': 2236, 'decidida': 2237, 'adoptar': 2238, 'leoncito': 2239, 'propio': 2240, 'confundida': 2241, 'prefiere': 2242, 'quédese': 2243, 'cachorro': 2244, 'vuelo': 2245, 'modo': 2246, 'creerse': 2247, 'diferencias': 2248, 'adoptado': 2249, 'primos': 2250, 'muchísimas': 2251, 'ocasiones': 2252, 'juegos': 2253, 'leoncillo': 2254, 'salía': 2255, 'llorando': 2256, 'rebaño': 2257, 'único': 2258, 'embestir': 2259, 'diversión': 2260, 'risas': 2261, 'burlas': 2262, 'faltaron': 2263, 'crianza': 2264, 'crecieron': 2265, 'convirtiéndose': 2266, 'corderos': 2267, 'adultos': 2268, 'debido': 2269, 'fuerte': 2270, 'consideraban': 2271, 'carnero': 2272, 'causaba': 2273, 'orgullo': 2274, 'privilegiada': 2275, 'dudas': 2276, 'características': 2277, 'atónitos': 2278, 'integrantes': 2279, 'adoptivo': 2280, 'parecerse': 2281, 'desfavorable': 2282, 'nuestro': 2283, 'balar': 2284, 'convertían': 2285, 'carcajadas': 2286, 'referidas': 2287, 'múltiples': 2288, 'hambriento': 2289, 'desesperado': 2290, 'ruidos': 2291, 'provocaba': 2292, 'esconderse': 2293, 'detrás': 2294, 'continuaron': 2295, 'situó': 2296, 'frente': 2297, 'comérsela': 2298, 'asustada': 2299, 'ayude': 2300, 'quiere': 2301, 'despertó': 2302, 'fuerza': 2303, 'valentía': 2304, 'permitió': 2305, 'abismo': 2306, 'asustado': 2307, 'temeroso': 2308, 'rugidos': 2309, 'impresión': 2310, 'tratando': 2311, 'evadir': 2312, 'evitar': 2313, 'pavoroso': 2314, 'partir': 2315, 'cambió': 2316, 'demostró': 2317, 'enfrentar': 2318, 'bravo': 2319, 'vivió': 2320, 'creyendo': 2321, 'libro': 2322, 'selva': 2323, 'pantera': 2324, 'bagheera': 2325, 'saciar': 2326, 'destinado': 2327, 'pasase': 2328, 'distinto': 2329, 'cambiaría': 2330, 'rutina': 2331, 'embarcación': 2332, 'ruinas': 2333, 'lamento': 2334, 'dejarlo': 2335, 'inanición': 2336, 'apetito': 2337, 'voraz': 2338, 'depredador': 2339, 'jungla': 2340, 'llevó': 2341, 'manada': 2342, 'lobos': 2343, 'habitaba': 2344, 'mowgli': 2345, 'criarse': 2346, 'salvaje': 2347, 'sentimientos': 2348, 'gozaba': 2349, 'simpatías': 2350, 'tigre': 2351, 'shere': 2352, 'khan': 2353, 'iría': 2354, 'devorarlo': 2355, 'odiaba': 2356, 'permitiría': 2357, 'disputase': 2358, 'reinado': 2359, 'inminente': 2360, 'peligro': 2361, 'sanguinario': 2362, 'representaba': 2363, 'dijeran': 2364, 'protectora': 2365, 'llevase': 2366, 'aldea': 2367, 'cercana': 2368, 'seguro': 2369, 'estaría': 2370, 'contra': 2371, 'voluntad': 2372, 'temía': 2373, 'emprender': 2374, 'viaje': 2375, 'singular': 2376, 'binomio': 2377, 'peripecias': 2378, 'serpiente': 2379, 'conocida': 2380, 'kaa': 2381, 'hipnotizó': 2382, 'engullirlo': 2383, 'accionar': 2384, 'pudieron': 2385, 'seguir': 2386, 'tropezaron': 2387, 'banda': 2388, 'elefantes': 2389, 'funcionaban': 2390, 'patrulla': 2391, 'encargada': 2392, 'velar': 2393, 'orden': 2394, 'encantó': 2395, 'estilo': 2396, 'desfilar': 2397, 'cual': 2398, 'molestó': 2399, 'jefe': 2400, 'dañar': 2401, 'urgentemente': 2402, 'sitio': 2403, 'escapó': 2404, 'control': 2405, 'profundidades': 2406, 'simpático': 2407, 'oso': 2408, 'llamado': 2409, 'baloo': 2410, 'migas': 2411, 'enseñaría': 2412, 'despreocupado': 2413, 'aprender': 2414, 'necesitaba': 2415, 'sucede': 2416, 'percatarse': 2417, 'esos': 2418, 'monos': 2419, 'bandar': 2420, 'long': 2421, 'raptaron': 2422, 'líder': 2423, 'king': 2424, 'louie': 2425, 'orangután': 2426, 'estado': 2427, 'mental': 2428, 'emulaba': 2429, 'locura': 2430, 'dejar': 2431, 'revelase': 2432, 'juntado': 2433, 'desaparición': 2434, 'paradero': 2435, 'rescataron': 2436, 'locos': 2437, 'protagonizar': 2438, 'curiosa': 2439, 'lucha': 2440, 'destrucción': 2441, 'templo': 2442, 'discutir': 2443, 'buenos': 2444, 'convenció': 2445, 'semejantes': 2446, 'seguridad': 2447, 'implicaba': 2448, 'matarlo': 2449, 'intercedió': 2450, 'defensa': 2451, 'batió': 2452, 'fieramente': 2453, 'habilidad': 2454, 'razón': 2455, 'acudió': 2456, 'pelea': 2457, 'rama': 2458, 'prendida': 2459, 'incendiado': 2460, 'impacto': 2461, 'rayo': 2462, 'causó': 2463, 'fiero': 2464, 'felino': 2465, 'huyó': 2466, 'despavorido': 2467, 'trío': 2468, 'reemprendió': 2469, 'inmediaciones': 2470, 'falta': 2471, 'ninguno': 2472, 'convenciese': 2473, 'prendado': 2474, 'merodeaba': 2475, 'buscando': 2476, 'despedirse': 2477, 'entristecido': 2478, 'comprendía': 2479, 'correspondía': 2480, 'fieles': 2481, 'adorables': 2482, 'mago': 2483, 'oz': 2484, 'kansas': 2485, 'dorita': 2486, 'perro': 2487, 'totó': 2488, 'tornado': 2489, 'trasladada': 2490, 'lejanas': 2491, 'poblado': 2492, 'preguntando': 2493, 'recomendó': 2494, 'consultar': 2495, 'hallarlosigue': 2496, 'baldosas': 2497, 'amarillasle': 2498, 'recorrido': 2499, 'espantapájaros': 2500, 'clamaba': 2501, 'cerebro': 2502, 'pedirle': 2503, 'consejo': 2504, 'unió': 2505, 'hojalata': 2506, 'solucionar': 2507, 'problema': 2508, 'hallaron': 2509, 'miedoso': 2510, 'aventuras': 2511, 'recibidos': 2512, 'guardián': 2513, 'preguntar': 2514, 'atentos': 2515, 'visitantes': 2516, 'ayudaría': 2517, 'vencían': 2518, 'molestias': 2519, 'nuevos': 2520, 'aceptaron': 2521, 'encomienda': 2522, 'amapolas': 2523, 'aroma': 2524, 'durmió': 2525, 'mensajeros': 2526, 'atraparan': 2527, 'llevaran': 2528, 'casualidad': 2529, 'cubo': 2530, 'cara': 2531, 'acción': 2532, 'volviera': 2533, 'charco': 2534, 'solución': 2535, 'terminar': 2536, 'hechizos': 2537, 'azotado': 2538, 'cumplidos': 2539, 'descubriera': 2540, 'retirarse': 2541, 'travesía': 2542, 'emprendieron': 2543, 'globo': 2544, 'saltó': 2545, 'somó': 2546, 'pensara': 2547, 'fuerzasno': 2548, 'propia': 2549, 'tíos': 2550, 'abrazarlos': 2551, 'estando': 2552, 'soñando': 2553, 'fantasía': 2554, 'experiencia': 2555, 'inolvidable': 2556, 'regalo': 2557, 'santa': 2558, 'recibía': 2559, 'mejores': 2560, 'andaba': 2561, 'callado': 2562, 'ocasión': 2563, 'juguetes': 2564, 'navidad': 2565, 'animaría': 2566, 'supo': 2567, 'entendía': 2568, 'olvidado': 2569, 'preguntarle': 2570, 'puntual': 2571, 'campanadas': 2572, 'cascos': 2573, 'renos': 2574, 'patear': 2575, 'habitación': 2576, 'saliendo': 2577, 'cenizas': 2578, 'troncos': 2579, 'fuertemente': 2580, 'confrontar': 2581, 'acaso': 2582, 'cedo': 2583, 'viejecillo': 2584, 'consternado': 2585, 'nochebuena': 2586, 'chimeneas': 2587, 'visito': 2588, 'guardo': 2589, 'millones': 2590, 'hogares': 2591, 'sufrimiento': 2592, 'cambiar': 2593, 'continuó': 2594, 'doy': 2595, 'oraciones': 2596, 'rezo': 2597, 'camas': 2598, 'reciban': 2599, 'próximo': 2600, 'diferentes': 2601, 'tipos': 2602, 'voy': 2603, 'compartiendo': 2604, 'patito': 2605, 'pata': 2606, 'empollar': 2607, 'corral': 2608, 'patitos': 2609, 'rompiesen': 2610, 'verlos': 2611, 'distinguida': 2612, 'esperado': 2613, 'alboroto': 2614, 'nido': 2615, 'acontecimiento': 2616, 'tanta': 2617, 'algarabía': 2618, 'alrededor': 2619, 'percatado': 2620, 'huevo': 2621, 'romperse': 2622, 'séptimo': 2623, 'intacto': 2624, 'expectativa': 2625, 'presentes': 2626, 'empezó': 2627, 'abría': 2628, 'pato': 2629, 'alegre': 2630, 'perplejos': 2631, 'larguirucho': 2632, 'impresionó': 2633, 'ocurrido': 2634, 'apartaba': 2635, 'ala': 2636, 'hermanitos': 2637, 'sufrió': 2638, 'sintiera': 2639, 'rechazado': 2640, 'coral': 2641, 'indiferentes': 2642, 'quizás': 2643, 'requería': 2644, 'pasaban': 2645, 'torpe': 2646, 'agujero': 2647, 'rodeaba': 2648, 'propiedad': 2649, 'propósito': 2650, 'interesara': 2651, 'quisieran': 2652, 'valores': 2653, 'anciana': 2654, 'problemas': 2655, 'solucionado': 2656, 'imaginaba': 2657, 'motivo': 2658, 'recogerlo': 2659, 'usarlo': 2660, 'atrás': 2661, 'pobrecillo': 2662, 'continuaba': 2663, 'dificultades': 2664, 'refugiarse': 2665, 'únicas': 2666, 'esquivar': 2667, 'disparos': 2668, 'provenientes': 2669, 'armas': 2670, 'cazadores': 2671, 'etapa': 2672, 'estanque': 2673, 'diviso': 2674, 'aves': 2675, 'cisnes': 2676, 'esbeltas': 2677, 'elegantes': 2678, 'desplazaban': 2679, 'frescura': 2680, 'distinción': 2681, 'abochornado': 2682, 'descuidado': 2683, 'notado': 2684, 'valor': 2685, 'preguntándole': 2686, 'educadamente': 2687, 'bañarse': 2688, 'amabilidad': 2689, 'respondieron': 2690, 'puedes': 2691, 'nuestros': 2692, 'va': 2693, 'apenado': 2694, 'rían': 2695, 'mí': 2696, 'van': 2697, 'comparar': 2698, 'ustedes': 2699, 'están': 2700, 'llenos': 2701, 'elegancia': 2702, 'sean': 2703, 'crueles': 2704, 'burlándose': 2705, 'nos': 2706, 'estamos': 2707, 'riendo': 2708, 'mírate': 2709, 'veras': 2710, 'demostrara': 2711, 'cuan': 2712, 'decimos': 2713, 'escuchar': 2714, 'transformado': 2715, 'cisne': 2716, 'pasó': 2717, 'dejado': 2718, 'bello': 2719, 'elegante': 2720, 'nadaban': 2721, 'perrito': 2722, 'junior': 2723, 'peludo': 2724, 'guarida': 2725, 'consigo': 2726, 'aburrió': 2727, 'abandonado': 2728, 'ratas': 2729, 'perros': 2730, 'dormían': 2731, 'intemperie': 2732, 'semanas': 2733, 'acostumbró': 2734, 'callejero': 2735, 'difícil': 2736, 'intenso': 2737, 'gata': 2738, 'cloe': 2739, 'moriremos': 2740, 'hacemos': 2741, 'conozco': 2742, 'acaba': 2743, 'conmigo': 2744, 'partieron': 2745, 'anduvieron': 2746, 'atravesando': 2747, 'abandonada': 2748, 'afueras': 2749, 'cálido': 2750, 'despensa': 2751, 'cocina': 2752, 'calmar': 2753, 'espantosa': 2754, 'comiendo': 2755, 'sobras': 2756, 'perra': 2757, 'furiosa': 2758, 'gruñendo': 2759, 'mostrando': 2760, 'dientes': 2761, 'intrusos': 2762, 'lastimes': 2763, 'gimió': 2764, 'arte': 2765, 'fijamente': 2766, 'llenarlo': 2767, 'mimos': 2768, 'caricias': 2769, 'confundido': 2770, 'olor': 2771, 'arribaron': 2772, 'contento': 2773, 'completo': 2774, 'interrumpió': 2775, 'reunión': 2776, 'recordarles': 2777, 'debían': 2778, 'pasos': 2779, 'coche': 2780, 'llévenos': 2781, 'escasea': 2782, 'unísono': 2783, 'esperaba': 2784, 'dueño': 2785, 'dormía': 2786, 'plácidamente': 2787, 'kilómetros': 2788, 'cueva': 2789, 'oscura': 2790, 'dispusieron': 2791, 'helada': 2792, 'oscuridad': 2793, 'topo': 2794, 'noticia': 2795, 'padecer': 2796, 'ató': 2797, 'poblados': 2798, 'desiertos': 2799, 'disminuía': 2800, 'flaqueaban': 2801, 'debemos': 2802, 'descansar': 2803, 'costado': 2804, 'albergaron': 2805, 'volteó': 2806, 'acurrucaran': 2807, 'conseguía': 2808, 'leña': 2809, 'seca': 2810, 'encender': 2811, 'acomodar': 2812, 'estuviesen': 2813, 'cómodos': 2814, 'encontrado': 2815, 'sentirían': 2816, 'solos': 2817, 'abandonados': 2818, 'tendrían': 2819, 'sobrevivir': 2820, 'celebrando': 2821, 'ambos': 2822, 'adentraban': 2823, 'presas': 2824, 'permitieran': 2825, 'alimentarse': 2826, 'venta': 2827, 'carne': 2828, 'diestro': 2829, 'suyo': 2830, 'jornada': 2831, 'ubicaba': 2832, 'vender': 2833, 'orgulloso': 2834, 'olfato': 2835, 'ubicando': 2836, 'atrapando': 2837, 'presa': 2838, 'rematase': 2839, 'desease': 2840, 'chucho': 2841, 'ninguna': 2842, 'escapan': 2843, 'lamentablemente': 2844, 'duran': 2845, 'década': 2846, '15': 2847, 'habilidades': 2848, 'mermando': 2849, 'apagándose': 2850, 'mes': 2851, 'faena': 2852, 'diaria': 2853, 'detectaba': 2854, 'distancia': 2855, 'colmo': 2856, 'visión': 2857, 'mordidas': 2858, 'sagaces': 2859, 'respectivamente': 2860, 'antaño': 2861, 'cantidad': 2862, 'decadencia': 2863, 'conformarse': 2864, 'can': 2865, 'percibía': 2866, 'asociaba': 2867, 'disminución': 2868, 'males': 2869, 'composición': 2870, 'huesos': 2871, 'resentían': 2872, 'emprendía': 2873, 'carrera': 2874, 'músculos': 2875, 'dolían': 2876, 'batía': 2877, 'viniese': 2878, 'rematarla': 2879, 'carencia': 2880, 'éxito': 2881, 'jornadas': 2882, 'siguieron': 2883, 'acrecentándose': 2884, 'hubo': 2885, 'extrema': 2886, 'invadir': 2887, 'costumbre': 2888, 'consciente': 2889, 'mella': 2890, 'principales': 2891, 'culpables': 2892, 'dramática': 2893, 'ímpetu': 2894, 'percibió': 2895, 'inteligentemente': 2896, 'llegaba': 2897, 'desgastado': 2898, 'concentró': 2899, 'permitirle': 2900, 'pista': 2901, 'metros': 2902, 'olfateando': 2903, 'extremo': 2904, 'hallaba': 2905, 'jabalí': 2906, 'alimentarlos': 2907, 'radiante': 2908, 'júbilo': 2909, 'asumió': 2910, 'posición': 2911, 'firme': 2912, 'típica': 2913, 'canes': 2914, 'señalar': 2915, 'dirección': 2916, 'ubicado': 2917, 'señal': 2918, 'cargaba': 2919, 'perdigones': 2920, 'esforzó': 2921, 'sacó': 2922, 'exigió': 2923, 'brutal': 2924, 'resintieron': 2925, 'gemir': 2926, 'haciendo': 2927, 'omiso': 2928, 'general': 2929, 'embargaba': 2930, 'cuello': 2931, 'derrumbarlo': 2932, 'poderosa': 2933, 'mordida': 2934, 'inofensiva': 2935, 'mellados': 2936, 'inexorable': 2937, 'desprenderse': 2938, 'echar': 2939, 'huir': 2940, 'herida': 2941, 'impediría': 2942, 'conservar': 2943, 'irrumpió': 2944, 'increpó': 2945, 'sirves': 2946, 'creo': 2947, 'útil': 2948, 'constituyes': 2949, 'carga': 2950, 'deshacerme': 2951, 'acongojado': 2952, 'otrora': 2953, 'ripostó': 2954, 'maltrates': 2955, 'víctima': 2956, 'mismas': 2957, 'esencia': 2958, 'propició': 2959, 'viviste': 2960, 'crees': 2961, 'dices': 2962, 'impactaron': 2963, 'recapacitó': 2964, 'enseguida': 2965, 'útiles': 2966, 'determinados': 2967, 'dejan': 2968, 'importante': 2969, 'cebolla': 2970, 'libraban': 2971, 'doncellas': 2972, 'castillos': 2973, 'brujas': 2974, 'bosques': 2975, 'apuros': 2976, 'rescatarla': 2977, 'brindarle': 2978, 'alcanzaban': 2979, 'arcoíris': 2980, 'distraída': 2981, 'prometió': 2982, 'encontraría': 2983, 'sentada': 2984, 'trono': 2985, 'casó': 2986, 'soportar': 2987, 'horrible': 2988, 'recitar': 2989, 'poemas': 2990, 'melodías': 2991, 'gusto': 2992, 'sopas': 2993, 'exquisitas': 2994, 'piel': 2995, 'disculpándose': 2996, 'confusión': 2997, 'conjuros': 2998, 'devolver': 2999, 'ofrecerle': 3000, 'negó': 3001, 'pájaro': 3002, 'flautista': 3003, 'pentagrama': 3004, 'tocar': 3005, 'instrumentos': 3006, 'musicales': 3007, 'zorros': 3008, 'osos': 3009, 'instrumento': 3010, 'colgado': 3011, 'minuto': 3012, 'entonaban': 3013, 'agradables': 3014, 'alegraban': 3015, 'popular': 3016, 'admiraban': 3017, 'talento': 3018, 'invitado': 3019, 'animaba': 3020, 'entonando': 3021, 'canciones': 3022, 'maravillosas': 3023, 'flauta': 3024, 'conciertos': 3025, 'tickets': 3026, 'agotaban': 3027, 'instantes': 3028, 'abarrotaban': 3029, 'admirar': 3030, 'distinguido': 3031, 'manipulaba': 3032, 'cuál': 3033, 'preciada': 3034, 'interpretar': 3035, 'habría': 3036, 'robarle': 3037, 'sollozos': 3038, 'nota': 3039, 'hemos': 3040, 'tomado': 3041, 'tocarla': 3042, 'serás': 3043, 'burla': 3044, 'endebles': 3045, 'flaquear': 3046, 'nudo': 3047, 'inventar': 3048, 'catarro': 3049, 'justificar': 3050, 'ausencia': 3051, 'agonía': 3052, 'lento': 3053, 'urracas': 3054, 'podemos': 3055, 'crimen': 3056, 'horrendo': 3057, 'exclamaron': 3058, 'revoloteando': 3059, 'furia': 3060, 'ayúdenme': 3061, 'recuperar': 3062, 'sollozaba': 3063, 'debajo': 3064, 'disfrazó': 3065, 'flor': 3066, 'urraca': 3067, 'gusano': 3068, 'cucaracha': 3069, 'roca': 3070, 'vestido': 3071, 'teatros': 3072, 'tocaban': 3073, 'vencido': 3074, 'busco': 3075, 'retiró': 3076, 'llorar': 3077, 'disfrazada': 3078, 'talleres': 3079, 'recientemente': 3080, 'violines': 3081, 'pianos': 3082, 'tambores': 3083, 'búsqueda': 3084, 'cansé': 3085, 'quitándose': 3086, 'disfraz': 3087, 'volviendo': 3088, 'noticias': 3089, 'visitando': 3090, 'tiendas': 3091, 'mercados': 3092, 'vendiendo': 3093, 'tercera': 3094, 'inmóvil': 3095, 'estirar': 3096, 'topos': 3097, 'cuchicheaban': 3098, 'atentamente': 3099, 'gordo': 3100, 'echarán': 3101, 'libramos': 3102, 'idiota': 3103, 'riéndose': 3104, 'bribones': 3105, 'escuchando': 3106, 'contarle': 3107, 'esperaron': 3108, 'quedaran': 3109, 'dormidos': 3110, 'quitarles': 3111, 'añorado': 3112, 'planeado': 3113, 'colaron': 3114, 'roncaban': 3115, 'sumidos': 3116, 'despertado': 3117, 'trancado': 3118, 'pudieran': 3119, 'tocaré': 3120, 'vendrán': 3121, 'rescatarnos': 3122, 'repletó': 3123, 'corrían': 3124, 'recibieron': 3125, 'merecido': 3126, 'haberse': 3127, 'dominaba': 3128, 'circundaba': 3129, 'balde': 3130, 'suele': 3131, 'parajes': 3132, 'pasara': 3133, 'reverenciarlo': 3134, 'actividad': 3135, 'física': 3136, 'tomar': 3137, 'reparar': 3138, 'segundos': 3139, 'juguetón': 3140, 'tirado': 3141, 'medio': 3142, 'roncando': 3143, 'roedor': 3144, 'encaramarse': 3145, 'imprudentemente': 3146, 'bulto': 3147, 'empezar': 3148, 'corría': 3149, 'pasitos': 3150, 'cosquillas': 3151, 'perturbaban': 3152, 'insostenibles': 3153, 'abruptamente': 3154, 'percató': 3155, 'provocado': 3156, 'interrupción': 3157, 'zarpazo': 3158, 'atraparlo': 3159, 'mínima': 3160, 'aprisionado': 3161, 'garras': 3162, 'violentamente': 3163, 'imprudente': 3164, 'descanso': 3165, 'aprecias': 3166, 'deben': 3167, 'atreve': 3168, 'molestarme': 3169, 'duermo': 3170, 'muerto': 3171, 'comprendiendo': 3172, 'osadía': 3173, 'ratoncito': 3174, 'clemencia': 3175, 'juro': 3176, 'volveré': 3177, 'cometer': 3178, 'tontería': 3179, 'ruego': 3180, 'perdone': 3181, 'estaré': 3182, 'deuda': 3183, 'eterna': 3184, 'serle': 3185, 'futuro': 3186, 'sorna': 3187, 'seas': 3188, 'minúsculo': 3189, 'mereces': 3190, 'atrevimientos': 3191, 'rogó': 3192, 'pido': 3193, 'reconsidere': 3194, 'decisión': 3195, 'deje': 3196, 'molestarlo': 3197, 'lleno': 3198, 'atraco': 3199, 'sistema': 3200, 'digestivo': 3201, 'soltó': 3202, 'advertirle': 3203, 'volvía': 3204, 'osado': 3205, 'próxima': 3206, 'viviría': 3207, 'contarlo': 3208, 'resulta': 3209, 'cualquiera': 3210, 'enfocado': 3211, 'gacela': 3212, 'yendo': 3213, 'directo': 3214, 'trampa': 3215, 'margen': 3216, 'maniobrar': 3217, 'tales': 3218, 'artilugios': 3219, 'lados': 3220, 'soltarse': 3221, 'romper': 3222, 'cuerdas': 3223, 'ataban': 3224, 'amarre': 3225, 'ingenio': 3226, 'bruta': 3227, 'preservar': 3228, 'rugir': 3229, 'asustaban': 3230, 'pensaban': 3231, 'dañino': 3232, 'integridad': 3233, 'escuchados': 3234, 'perdonado': 3235, 'majestad': 3236, 'ofreció': 3237, 'devuelva': 3238, 'perdonó': 3239, 'liberaré': 3240, 'amarras': 3241, 'sea': 3242, 'acudido': 3243, 'valoraba': 3244, 'absoluto': 3245, 'escaso': 3246, 'dije': 3247, 'vuelvo': 3248, 'ayudarme': 3249, 'veremos': 3250, 'dejarse': 3251, 'amilanar': 3252, 'afiló': 3253, 'mordiscos': 3254, 'mordisqueando': 3255, 'desgatando': 3256, 'propongan': 3257, 'empezado': 3258, 'vencer': 3259, 'grosor': 3260, 'liberar': 3261, 'agradecido': 3262, 'pedir': 3263, 'comentarios': 3264, 'haberle': 3265, 'comprendido': 3266, 'somos': 3267, 'importantes': 3268, 'importar': 3269, 'empeño': 3270, 'pongamos': 3271, 'mueve': 3272, 'facilitaba': 3273, 'exploraba': 3274, 'trampas': 3275, 'liberaba': 3276, 'tomás': 3277, 'acababa': 3278, '14': 3279, 'súbditos': 3280, 'terrenos': 3281, 'semidestruido': 3282, 'leyendas': 3283, 'populares': 3284, 'construcción': 3285, 'codicia': 3286, 'destruyó': 3287, 'esplendor': 3288, 'tiempos': 3289, 'famoso': 3290, 'tomaban': 3291, 'serio': 3292, 'cuentos': 3293, 'llevaban': 3294, 'tardes': 3295, 'tenido': 3296, 'existiesen': 3297, 'central': 3298, 'patio': 3299, 'rosa': 3300, 'agradaría': 3301, 'tomarla': 3302, 'llevarla': 3303, 'aposentos': 3304, 'disfrutó': 3305, 'enormemente': 3306, 'depositó': 3307, 'caja': 3308, 'preciosa': 3309, 'emocionados': 3310, 'liberara': 3311, 'alarmado': 3312, 'monarca': 3313, 'negativamente': 3314, 'soñado': 3315, 'levantó': 3316, 'exploró': 3317, 'planta': 3318, 'superior': 3319, 'repetición': 3320, 'guardado': 3321, 'hallarla': 3322, 'comprender': 3323, 'extra': 3324, 'identificó': 3325, 'casase': 3326, 'matase': 3327, 'actual': 3328, 'dueña': 3329, 'comarca': 3330, 'nueva': 3331, 'actitud': 3332, 'negarse': 3333, 'hechicera': 3334, 'mataría': 3335, 'amenaza': 3336, 'ideó': 3337, 'cogió': 3338, 'sótano': 3339, 'encerró': 3340, 'sucediendo': 3341, 'marido': 3342, 'vuelto': 3343, 'loco': 3344, 'atentar': 3345, 'encerrada': 3346, 'salvando': 3347, 'gobernaba': 3348, 'despotismo': 3349, 'ejercía': 3350, 'influencia': 3351, 'designios': 3352, 'enterado': 3353, 'desobediencia': 3354, 'profesaba': 3355, 'odiase': 3356, 'desear': 3357, 'comentó': 3358, 'rezaría': 3359, 'san': 3360, 'josé': 3361, 'devota': 3362, 'protegiera': 3363, 'fu': 3364, 'rebasó': 3365, 'tolerable': 3366, 'ordenó': 3367, 'emprendiese': 3368, 'uvas': 3369, 'rechazó': 3370, 'inicio': 3371, 'amenazas': 3372, 'maltratar': 3373, 'reconsiderar': 3374, 'aprestó': 3375, 'bendición': 3376, 'anduviese': 3377, 'frutas': 3378, 'bajase': 3379, 'detuviese': 3380, 'llamaran': 3381, 'contrario': 3382, 'perecer': 3383, 'sano': 3384, 'encomendó': 3385, 'naranjas': 3386, 'solía': 3387, 'tropezarse': 3388, 'explicó': 3389, 'detener': 3390, 'recogiera': 3391, 'asesinado': 3392, 'percance': 3393, 'insultó': 3394, 'limones': 3395, 'trataban': 3396, 'crecían': 3397, 'sembrado': 3398, 'designio': 3399, 'nuevas': 3400, 'indicaciones': 3401, 'alertó': 3402, 'encontrara': 3403, 'apariencia': 3404, 'querer': 3405, 'cogiera': 3406, 'presionar': 3407, 'hechiceras': 3408, 'forzosa': 3409, 'madrastra': 3410, 'apagar': 3411, 'velas': 3412, 'cuales': 3413, 'postre': 3414, 'santo': 3415, 'forzó': 3416, 'enseñasen': 3417, 'prestas': 3418, 'acabar': 3419, 'desubicadas': 3420, 'visitante': 3421, 'limón': 3422, 'interesaba': 3423, 'prohibida': 3424, 'cedieron': 3425, 'intenciones': 3426, 'definitiva': 3427, 'cuánta': 3428, 'apartando': 3429, 'soplaba': 3430, 'extinguir': 3431, 'llamas': 3432, 'mantenían': 3433, 'duró': 3434, 'ambas': 3435, 'murieron': 3436, 'vela': 3437, 'triunfante': 3438, 'rabió': 3439, 'desgarrarlo': 3440, 'capturó': 3441, 'gritándole': 3442, 'apagaba': 3443, 'acabaría': 3444, 'usurpadora': 3445, 'infortunada': 3446, 'maldita': 3447, 'acabó': 3448, 'infortunio': 3449, 'últimos': 3450, 'librados': 3451, 'fundieron': 3452, 'cariñoso': 3453, 'prolongado': 3454, 'bajaron': 3455, 'ansiosos': 3456, 'liberaron': 3457, 'verdadera': 3458, 'agradecía': 3459, 'receptor': 3460, 'rezos': 3461, 'protector': 3462, 'persistencia': 3463, 'tenebrosas': 3464, 'soldadito': 3465, 'plomo': 3466, 'comienza': 3467, 'amiguito': 3468, 'soldaditos': 3469, 'idénticos': 3470, 'porte': 3471, 'fusil': 3472, 'pantalones': 3473, 'azules': 3474, 'gorra': 3475, 'vieja': 3476, 'cuchara': 3477, 'fundida': 3478, 'aplaudió': 3479, 'fila': 3480, 'comenzar': 3481, 'pierna': 3482, 'desdichado': 3483, 'aun': 3484, 'mantenía': 3485, 'alacena': 3486, 'papel': 3487, 'alzaba': 3488, 'doradas': 3489, 'muñeca': 3490, 'recogida': 3491, 'suelen': 3492, 'bailarinas': 3493, 'perfecta': 3494, 'contemplaba': 3495, 'arribar': 3496, 'cobraron': 3497, 'fija': 3498, 'bailarina': 3499, 'devolvía': 3500, 'sonrisas': 3501, 'entablaron': 3502, 'durado': 3503, 'envidia': 3504, 'hubiesen': 3505, 'aparecido': 3506, 'payaso': 3507, 'plástico': 3508, 'soportaba': 3509, 'almuerzo': 3510, 'abandonó': 3511, 'aprovechó': 3512, 'empujar': 3513, 'calle': 3514, 'altura': 3515, 'riesgo': 3516, 'automóvil': 3517, 'aplastara': 3518, 'bajó': 3519, 'encontrarlo': 3520, 'juguete': 3521, 'pavimento': 3522, 'cuantos': 3523, 'llover': 3524, 'arrastrado': 3525, 'alejarse': 3526, 'caprichosa': 3527, 'deslizó': 3528, 'abajo': 3529, 'movía': 3530, 'alcantarilla': 3531, 'horrorosa': 3532, 'impulsaba': 3533, 'menudo': 3534, 'tuberías': 3535, 'estrechas': 3536, 'navegando': 3537, 'alcantarillas': 3538, 'tubería': 3539, 'navegaba': 3540, 'llegando': 3541, 'abalanzaba': 3542, 'canal': 3543, 'abalanzado': 3544, 'exterior': 3545, 'pez': 3546, 'oscuro': 3547, 'pensar': 3548, 'bruscamente': 3549, 'notarlo': 3550, 'pescadores': 3551, 'vendido': 3552, 'sirvienta': 3553, 'imaginarlo': 3554, 'comedor': 3555, 'aguardaban': 3556, 'regresado': 3557, 'milagrosamente': 3558, 'adentros': 3559, 'adorada': 3560, 'bañados': 3561, 'contemplaban': 3562, 'amado': 3563, 'entrometerse': 3564, 'triunfó': 3565, 'traje': 3566, 'emperador': 3567, 'rico': 3568, 'pendiente': 3569, 'lucir': 3570, 'prendas': 3571, 'vestidos': 3572, 'lujosas': 3573, 'joyas': 3574, 'sastres': 3575, 'trabajaban': 3576, 'proveer': 3577, 'trajes': 3578, 'brillos': 3579, 'magníficas': 3580, 'telas': 3581, 'ladrones': 3582, 'estafar': 3583, 'poseer': 3584, 'confeccionar': 3585, 'ajuares': 3586, 'vistos': 3587, 'deslumbrado': 3588, 'pagó': 3589, 'suma': 3590, 'comenzaran': 3591, 'simulando': 3592, 'tejían': 3593, 'cobrar': 3594, 'beber': 3595, 'anchas': 3596, 'deseoso': 3597, 'obra': 3598, 'envió': 3599, 'sirviente': 3600, 'telar': 3601, 'aseguraron': 3602, 'tela': 3603, 'tontos': 3604, 'ignorantes': 3605, 'veo': 3606, 'parecer': 3607, 'maestra': 3608, 'ignorante': 3609, 'delante': 3610, 'disimuló': 3611, 'puesto': 3612, 'ceremonia': 3613, 'desnudo': 3614, 'miraban': 3615, 'aturdidas': 3616, 'pronunciar': 3617, 'palabra': 3618, 'murmullos': 3619, 'prosiguió': 3620, 'convencido': 3621, 'miraba': 3622, 'pura': 3623, 'ignorancia': 3624, 'estupidez': 3625, 'demostrar': 3626, 'llevarnos': 3627, 'criterios': 3628, 'ajenos': 3629, 'garbancito': 3630, 'traer': 3631, 'bienestar': 3632, 'espiritual': 3633, 'intentarlo': 3634, 'consiguieron': 3635, 'embarazados': 3636, 'parto': 3637, 'legumbre': 3638, 'llamaron': 3639, 'ganaba': 3640, 'desarrollo': 3641, 'extremadamente': 3642, 'constantemente': 3643, 'aparente': 3644, 'indefensión': 3645, 'resultase': 3646, 'dañado': 3647, 'eventualidad': 3648, 'accidente': 3649, 'amilanaba': 3650, 'pequeñez': 3651, 'superar': 3652, 'sobreprotección': 3653, 'exquisita': 3654, 'ingredientes': 3655, 'infaltables': 3656, 'receta': 3657, 'azafrán': 3658, 'corto': 3659, 'buscarlo': 3660, 'ofrecimiento': 3661, 'alegando': 3662, 'posibilidad': 3663, 'ocurriese': 3664, 'insistió': 3665, 'encargase': 3666, 'caminaba': 3667, 'multitudes': 3668, 'cántico': 3669, 'específico': 3670, 'alertar': 3671, 'pisasen': 3672, 'escuchaba': 3673, 'desgracia': 3674, 'destinada': 3675, 'suceder': 3676, 'sucedería': 3677, 'tienda': 3678, 'encargó': 3679, 'comprar': 3680, 'distinguir': 3681, 'tendero': 3682, 'cliente': 3683, 'hombrecillo': 3684, 'moneda': 3685, 'pagaría': 3686, 'mostró': 3687, 'perdiendo': 3688, 'estribos': 3689, 'teniendo': 3690, 'visiones': 3691, 'zona': 3692, 'agarraba': 3693, 'satisfacción': 3694, 'deber': 3695, 'cumplido': 3696, 'característico': 3697, 'contenta': 3698, 'regresada': 3699, 'preocupación': 3700, 'anterior': 3701, 'cuidara': 3702, 'trabajadores': 3703, 'papá': 3704, 'maravillas': 3705, 'aguacero': 3706, 'obligó': 3707, 'guarecerse': 3708, 'col': 3709, 'buey': 3710, 'importunaba': 3711, 'vientre': 3712, 'recriminar': 3713, 'olvido': 3714, 'llevárselo': 3715, 'cánticos': 3716, 'preocuparon': 3717, 'solidarizaron': 3718, 'escucharon': 3719, 'vociferar': 3720, 'desespero': 3721, 'perseverancia': 3722, 'ternura': 3723, 'rebasaban': 3724, 'miles': 3725, 'estatura': 3726, 'dotado': 3727, 'oyeron': 3728, 'pastaban': 3729, 'vacas': 3730, 'pidieron': 3731, 'siguiera': 3732, 'vociferando': 3733, 'identificar': 3734, 'exacto': 3735, 'descubrieron': 3736, 'hocico': 3737, 'obligarlo': 3738, 'estornudar': 3739, 'estornudo': 3740, 'disparado': 3741, 'fundían': 3742, 'pachín': 3743, 'pachán': 3744, 'piséis': 3745, 'crecería': 3746, 'casaría': 3747, 'hansel': 3748, 'gretel': 3749, 'llamados': 3750, 'espeso': 3751, 'precaria': 3752, 'escasez': 3753, 'cruel': 3754, 'atormentado': 3755, 'morirían': 3756, 'abandonarlos': 3757, 'encuentran': 3758, 'apiade': 3759, 'dé': 3760, 'gretelal': 3761, 'opuso': 3762, 'merced': 3763, 'ocurrir': 3764, 'semejante': 3765, 'enfadado': 3766, 'dispuesta': 3767, 'deshacerse': 3768, 'descansó': 3769, 'convencer': 3770, 'débil': 3771, 'única': 3772, 'alternativa': 3773, 'conversación': 3774, 'lloraba': 3775, 'desconsoladamente': 3776, 'consoló': 3777, 'asegurándole': 3778, 'disponían': 3779, 'acompañar': 3780, 'pedazo': 3781, 'espesura': 3782, 'sabiendo': 3783, 'marcar': 3784, 'esperen': 3785, 'iré': 3786, 'cortar': 3787, 'vendré': 3788, 'buscarlos': 3789, 'tranquilos': 3790, 'cambiado': 3791, 'opinión': 3792, 'siguiendo': 3793, 'intentaron': 3794, 'buscaron': 3795, 'indicaban': 3796, 'vagaron': 3797, 'alejaban': 3798, 'pajarillo': 3799, 'cantaba': 3800, 'invitándoles': 3801, 'seguirle': 3802, 'construida': 3803, 'dulces': 3804, 'recubiertas': 3805, 'jengibre': 3806, 'chocolate': 3807, 'bizcochos': 3808, 'azúcar': 3809, 'mordisqueaban': 3810, 'viejecita': 3811, 'invitaba': 3812, 'usaba': 3813, 'atraer': 3814, 'comérselos': 3815, 'domésticas': 3816, 'comería': 3817, 'engordarlo': 3818, 'delgado': 3819, 'jaula': 3820, 'alimentaba': 3821, 'diario': 3822, 'media': 3823, 'ciega': 3824, 'sacase': 3825, 'engordado': 3826, 'engañaba': 3827, 'hueso': 3828, 'prepara': 3829, 'horno': 3830, 'cocinarlo': 3831, 'caliente': 3832, 'empujarla': 3833, 'tomaron': 3834, 'diamantes': 3835, 'huyeron': 3836, 'lago': 3837, 'nadaba': 3838, 'ayudó': 3839, 'indicándoles': 3840, 'inmensa': 3841, 'arrepintiera': 3842, 'adorados': 3843, 'buscado': 3844, 'cesar': 3845, 'esforzaría': 3846, 'hacerlos': 3847, 'tesoros': 3848, 'malos': 3849, 'ricos': 3850, 'juan': 3851, 'contaba': 3852, 'disgustaba': 3853, 'trabajador': 3854, 'asentado': 3855, 'emprendedor': 3856, 'lograba': 3857, 'establecerse': 3858, 'decentemente': 3859, 'acerca': 3860, 'dice': 3861, 'económica': 3862, 'favorables': 3863, 'falte': 3864, 'heredar': 3865, 'noto': 3866, 'motiva': 3867, 'permita': 3868, 'modestamente': 3869, 'gustaría': 3870, 'sentir': 3871, 'historias': 3872, 'monstruos': 3873, 'causado': 3874, 'escuchan': 3875, 'aterran': 3876, 'decepcionado': 3877, 'correcto': 3878, 'sacristán': 3879, 'instauró': 3880, 'amena': 3881, 'presentación': 3882, 'usual': 3883, 'decirme': 3884, 'hallarlo': 3885, 'posteriormente': 3886, 'narrarle': 3887, 'antigua': 3888, 'valle': 3889, 'gobernado': 3890, 'maléfico': 3891, 'ofrecido': 3892, 'logre': 3893, 'fracasado': 3894, 'aterrados': 3895, 'deseas': 3896, 'necesito': 3897, 'salón': 3898, 'preciso': 3899, 'condiciones': 3900, 'logras': 3901, 'liberas': 3902, 'entregaré': 3903, 'agradezco': 3904, 'pretende': 3905, 'objetivo': 3906, 'descubrir': 3907, 'intentado': 3908, 'quejido': 3909, 'aterrador': 3910, 'proveniente': 3911, 'fantasma': 3912, 'despertarme': 3913, 'importó': 3914, 'chillidos': 3915, 'conversó': 3916, 'recordándole': 3917, 'segunda': 3918, 'alaridos': 3919, 'espectro': 3920, 'provenían': 3921, 'preso': 3922, 'cadena': 3923, 'liberarlo': 3924, 'desapareciera': 3925, 'satisfecho': 3926, 'promesa': 3927, 'dormido': 3928, 'desagradable': 3929, 'momia': 3930, 'despertaron': 3931, 'atrevido': 3932, 'rápida': 3933, 'quitó': 3934, 'venda': 3935, 'trapos': 3936, 'dejas': 3937, 'quedará': 3938, 'libre': 3939, 'reunió': 3940, 'demostrarle': 3941, 'agradecimiento': 3942, 'hazaña': 3943, 'gratitud': 3944, 'conocería': 3945, 'hijas': 3946, 'pecera': 3947, 'llenas': 3948, 'pececitos': 3949, 'quítenme': 3950, 'inexplicable': 3951, 'simples': 3952, 'causaran': 3953, 'siguiese': 3954, 'gallina': 3955, 'gallinita': 3956, 'propietarios': 3957, 'limpia': 3958, 'ordenada': 3959, 'atendían': 3960, 'desempeñaban': 3961, 'orgullosos': 3962, 'funciones': 3963, 'ahínco': 3964, 'podríamos': 3965, 'próspera': 3966, 'producciones': 3967, 'leche': 3968, 'queso': 3969, 'heno': 3970, 'abundó': 3971, 'reservaban': 3972, 'alimentación': 3973, 'dándole': 3974, 'efectivas': 3975, 'agradase': 3976, 'tradicional': 3977, 'escarbando': 3978, 'resolvería': 3979, 'picotearlo': 3980, 'prefirió': 3981, 'trazar': 3982, 'estrategia': 3983, 'permitiese': 3984, 'siembro': 3985, 'saldrá': 3986, 'obtendré': 3987, 'plantarlo': 3988, 'cosecharlo': 3989, 'ayudará': 3990, 'sembrar': 3991, 'cortos': 3992, 'perezosos': 3993, 'pronunciaron': 3994, 'tampocoagregó': 3995, 'desilusionada': 3996, 'resuelta': 3997, 'plantaré': 3998, 'escogió': 3999, 'esmero': 4000, 'labor': 4001, 'vigiló': 4002, 'regó': 4003, 'premió': 4004, 'compañeros': 4005, 'segar': 4006, 'cosechar': 4007, 'fruto': 4008, 'establo': 4009, 'descansaban': 4010, 'separar': 4011, 'tarea': 4012, 'requeriré': 4013, 'ayudan': 4014, 'obtuvo': 4015, 'respuestas': 4016, 'apañaré': 4017, 'solita': 4018, 'acto': 4019, 'seguido': 4020, 'paticas': 4021, 'invirtió': 4022, 'segando': 4023, 'separando': 4024, 'extenuada': 4025, 'resultado': 4026, 'duro': 4027, 'restaba': 4028, 'delicioso': 4029, 'previsto': 4030, 'molesta': 4031, 'disposición': 4032, 'beneficiarse': 4033, 'encantaba': 4034, 'darles': 4035, 'solicitar': 4036, 'listo': 4037, 'será': 4038, 'fácil': 4039, 'apunta': 4040, 'prefiero': 4041, 'quedarme': 4042, 'cuentesagregó': 4043, 'dándose': 4044, 'estirón': 4045, 'pareció': 4046, 'molestarla': 4047, 'disfrutaría': 4048, 'hornear': 4049, 'producto': 4050, 'invadió': 4051, 'acudieron': 4052, 'masa': 4053, 'bandeja': 4054, 'pícaramente': 4055, 'habituales': 4056, 'variaron': 4057, 'apreciado': 4058, 'acudí': 4059, 'rechazaron': 4060, 'recuerdan': 4061, 'disfrutaré': 4062, 'ayudaron': 4063, 'probarán': 4064, 'arduo': 4065, 'trabajoso': 4066, 'supuestos': 4067, 'permanecen': 4068, 'luchan': 4069, 'malas': 4070, 'encantada': 4071, 'muchachas': 4072, 'querían': 4073, 'casarse': 4074, 'reparaba': 4075, 'siquiera': 4076, 'mascota': 4077, 'cariñosa': 4078, 'zapaquilda': 4079, 'fueras': 4080, 'casarme': 4081, 'contigo': 4082, 'milagrosa': 4083, 'toques': 4084, 'leves': 4085, 'casamiento': 4086, 'repleto': 4087, 'invitados': 4088, 'novia': 4089, 'atravesaba': 4090, 'ratoncillo': 4091, 'verle': 4092, 'animalillo': 4093, 'movimiento': 4094, 'arrepentido': 4095, 'devolviera': 4096, 'desean': 4097, 'fiera': 4098, 'esclavo': 4099, 'servicio': 4100, 'roma': 4101, 'androcles': 4102, 'ocultó': 4103, 'tenebrosa': 4104, 'imponente': 4105, 'rugido': 4106, 'temas': 4107, 'recuperes': 4108, 'conforme': 4109, 'acercando': 4110, 'fiereza': 4111, 'ganarse': 4112, 'confianza': 4113, 'extrajo': 4114, 'flecha': 4115, 'clavada': 4116, 'curó': 4117, 'convivir': 4118, 'capturaron': 4119, 'soldados': 4120, 'sirviera': 4121, 'circo': 4122, 'arrojado': 4123, 'foso': 4124, 'pestilente': 4125, 'curiosas': 4126, 'batalla': 4127, 'venía': 4128, 'acercándose': 4129, 'zancadas': 4130, 'parado': 4131, 'logrado': 4132, 'someter': 4133, 'coro': 4134, 'maría': 4135, 'niñata': 4136, 'devuélveme': 4137, 'pertenece': 4138, 'agitaba': 4139, 'vestía': 4140, 'zapatillas': 4141, 'carmelitas': 4142, 'puntiagudas': 4143, 'repetía': 4144, 'venga': 4145, 'regreses': 4146, 'contestas': 4147, 'cuántos': 4148, 'pliegues': 4149, 'fallas': 4150, 'venderé': 4151, 'enfrentando': 4152, 'mil': 4153, 'frotándose': 4154, 'efectivamente': 4155, 'arrugas': 4156, 'exactas': 4157, 'entregó': 4158, 'afligida': 4159, 'ablandó': 4160, 'quédatela': 4161, 'alimentar': 4162, 'proveerles': 4163, 'abrigos': 4164, 'protegerse': 4165, 'crudo': 4166, 'llamarle': 4167, 'tiernamente': 4168, 'bondadosos': 4169, 'pescador': 4170, 'joya': 4171, 'comparación': 4172, 'impedía': 4173, 'ambición': 4174, 'atributos': 4175, 'físicos': 4176, 'deseada': 4177, 'mozos': 4178, 'honrados': 4179, 'rechazaba': 4180, 'incomprensión': 4181, 'descuiden': 4182, 'casaré': 4183, 'reinaré': 4184, 'opulento': 4185, 'saldremos': 4186, 'vivimos': 4187, 'estirpe': 4188, 'guerrero': 4189, 'galán': 4190, 'accedió': 4191, 'gustosa': 4192, 'precisamente': 4193, 'deseado': 4194, 'nupcias': 4195, 'celebraron': 4196, 'enamorada': 4197, 'veían': 4198, 'enlazar': 4199, 'superficial': 4200, 'esposo': 4201, 'tirano': 4202, 'gustado': 4203, 'desposado': 4204, 'presumir': 4205, 'nobles': 4206, 'planteó': 4207, 'observado': 4208, 'indiferente': 4209, 'quejas': 4210, 'casaste': 4211, 'espontánea': 4212, 'aceptar': 4213, 'atenerte': 4214, 'consecuencias': 4215, 'decisiones': 4216, 'llanto': 4217, 'despótico': 4218, 'capricho': 4219, 'madurado': 4220, 'ingenua': 4221, 'interesada': 4222, 'intentó': 4223, 'descubría': 4224, 'burlaba': 4225, 'obligándola': 4226, 'permanecer': 4227, 'seguidos': 4228, 'hacerse': 4229, 'encerrarla': 4230, 'mazmorras': 4231, 'visita': 4232, 'exhibir': 4233, 'trofeo': 4234, 'insoportable': 4235, 'irrumpía': 4236, 'llantos': 4237, 'lamentos': 4238, 'negativo': 4239, 'atento': 4240, 'consolaba': 4241, 'trabando': 4242, 'linda': 4243, 'sincera': 4244, 'permites': 4245, 'encierro': 4246, 'aprecio': 4247, 'código': 4248, 'honor': 4249, 'guardia': 4250, 'impide': 4251, 'desobedecer': 4252, 'órdenes': 4253, 'lamentó': 4254, 'faltase': 4255, 'desconsolado': 4256, 'solidarizó': 4257, 'enamorarse': 4258, 'persiste': 4259, 'tenerla': 4260, 'exhibirla': 4261, 'demostrando': 4262, 'guapo': 4263, 'afortunado': 4264, 'cambia': 4265, 'dejará': 4266, 'quieres': 4267, 'desfigura': 4268, 'acabando': 4269, 'liberará': 4270, 'lógica': 4271, 'agradó': 4272, 'desfigurara': 4273, 'permítame': 4274, 'equivoca': 4275, 'conocerla': 4276, 'amenizado': 4277, 'dura': 4278, 'besó': 4279, 'pasión': 4280, 'empuñaba': 4281, 'llevándola': 4282, 'profundos': 4283, 'existido': 4284, 'atormentar': 4285, 'preciado': 4286, 'tesoro': 4287, 'desfigurada': 4288, 'pegó': 4289, 'diciéndole': 4290, 'largarse': 4291, 'servía': 4292, 'ordenado': 4293, 'destierro': 4294, 'largaron': 4295, 'infernal': 4296, 'eternidad': 4297, 'cicatrices': 4298, 'rizos': 4299, 'mimarla': 4300, 'consentirla': 4301, 'caprichos': 4302, 'malcriada': 4303, 'disculpas': 4304, 'grosera': 4305, 'sirvientes': 4306, 'protestar': 4307, 'hornearan': 4308, 'plena': 4309, 'madrugada': 4310, 'obligar': 4311, 'espantaran': 4312, 'rondaban': 4313, 'simplemente': 4314, 'reírse': 4315, 'malacrianzas': 4316, 'obedeciera': 4317, 'encarcelado': 4318, 'lechuza': 4319, 'don': 4320, 'cortesía': 4321, 'maldigo': 4322, 'sepas': 4323, 'agradecer': 4324, 'respetar': 4325, 'rodean': 4326, 'extendían': 4327, 'espanto': 4328, 'reales': 4329, 'paraba': 4330, 'sollozar': 4331, 'lamentarse': 4332, 'pagará': 4333, 'furioso': 4334, 'intentaba': 4335, 'mechones': 4336, 'gigantes': 4337, 'regaban': 4338, 'cientos': 4339, 'curanderos': 4340, 'hechiceros': 4341, 'medios': 4342, 'deshacer': 4343, 'preparaban': 4344, 'brebajes': 4345, 'recitaban': 4346, 'agitando': 4347, 'desafortunadamente': 4348, 'parar': 4349, 'encantamiento': 4350, 'crecía': 4351, 'cansada': 4352, 'despertar': 4353, 'inundado': 4354, 'extendía': 4355, 'tijeras': 4356, 'cuchillos': 4357, 'guadañas': 4358, 'extenuados': 4359, 'encerraba': 4360, 'silencio': 4361, 'intentando': 4362, 'hallar': 4363, 'repletaban': 4364, 'llegaban': 4365, 'océano': 4366, 'enredaban': 4367, 'punta': 4368, 'ofrecieron': 4369, 'pastel': 4370, 'acabado': 4371, 'suave': 4372, 'sirvientas': 4373, 'sorprendidas': 4374, 'cabello': 4375, 'discúlpeme': 4376, 'jardineros': 4377, 'cocineras': 4378, 'amablemente': 4379, 'aprendido': 4380, 'tendrás': 4381, 'sufrir': 4382, 'desbordaba': 4383, 'confines': 4384, 'insultar': 4385, 'justa': 4386, 'atenta': 4387, 'ratita': 4388, 'blanca': 4389, 'atuendos': 4390, 'atravesaron': 4391, 'montadas': 4392, 'bordo': 4393, 'veloces': 4394, 'libélulas': 4395, 'alba': 4396, 'agitados': 4397, 'lloraban': 4398, 'desprotegidos': 4399, 'muertos': 4400, 'chasqueó': 4401, 'dedos': 4402, 'prendió': 4403, 'estufa': 4404, 'calentar': 4405, 'aparezcan': 4406, 'vuestros': 4407, 'dejaré': 4408, 'arropando': 4409, 'nerviosismo': 4410, 'olvidó': 4411, 'regañó': 4412, 'castigaré': 4413, 'actuar': 4414, 'compasivas': 4415, 'eterno': 4416, 'cien': 4417, 'andarás': 4418, 'queridos': 4419, 'vemos': 4420, 'cuidando': 4421, 'quedan': 4422, 'presumida': 4423, 'rata': 4424, 'laboriosa': 4425, 'dedicada': 4426, 'haragana': 4427, 'jactándose': 4428, 'pepita': 4429, 'imaginó': 4430, 'regalársela': 4431, 'compres': 4432, 'inútil': 4433, 'mercado': 4434, 'compró': 4435, 'cinta': 4436, 'rojo': 4437, 'seré': 4438, 'gallo': 4439, 'gusta': 4440, 'levantarme': 4441, 'necesitado': 4442, 'compañera': 4443, 'agitada': 4444, 'hola': 4445, 'levantarte': 4446, 'holgazanas': 4447, 'santiamén': 4448, 'espantó': 4449, 'mordisco': 4450, 'vaca': 4451, 'mosca': 4452, 'pastaba': 4453, 'tranquilamente': 4454, 'prado': 4455, 'coló': 4456, 'frenéticamente': 4457, 'intentara': 4458, 'irse': 4459, 'dando': 4460, 'bruscas': 4461, 'hundir': 4462, 'resista': 4463, 'vaya': 4464, 'acompañó': 4465, 'lodazal': 4466, 'nariz': 4467, 'lodo': 4468, 'indicado': 4469, 'desesperada': 4470, 'vecino': 4471, 'ayúdenos': 4472, 'evidente': 4473, 'frotas': 4474, 'pajar': 4475, 'asustarás': 4476, 'irá': 4477, 'propuesta': 4478, 'funciona': 4479, 'desdichada': 4480, 'estrujaba': 4481, 'furiosamente': 4482, 'zumbando': 4483, 'enredara': 4484, 'miraron': 4485, 'rindió': 4486, 'primo': 4487, 'toro': 4488, 'masticaba': 4489, 'hierba': 4490, 'ayúdanos': 4491, 'gritaron': 4492, 'meter': 4493, 'riachuelo': 4494, 'entrará': 4495, 'tendrá': 4496, 'genial': 4497, 'pensaron': 4498, 'empapó': 4499, 'molestando': 4500, 'hundía': 4501, 'sacarse': 4502, 'zumbido': 4503, 'agotada': 4504, 'tumbarse': 4505, 'pasto': 4506, 'sumergida': 4507, 'apenados': 4508, 'respiraba': 4509, 'agitadamente': 4510, 'calma': 4511, 'tranquilo': 4512, 'encerrado': 4513, 'saltar': 4514, 'reposo': 4515, 'hueco': 4516, 'respirar': 4517, 'fresco': 4518, 'levantando': 4519, 'asombrados': 4520, 'dibujó': 4521, 'orgullosamente': 4522, 'apuró': 4523, 'añadir': 4524, 'pensado': 4525, 'listos': 4526, 'concluyeron': 4527, 'vanidosamente': 4528, 'enterarse': 4529, 'marcharon': 4530, 'festejar': 4531, 'saltos': 4532, '3': 4533, 'monarcas': 4534, 'alegres': 4535, 'leticia': 4536, 'mediana': 4537, 'esther': 4538, 'pequeñita': 4539, 'divertidas': 4540, 'jugaban': 4541, 'pequeñas': 4542, 'enfermaban': 4543, 'nacieron': 4544, 'sanas': 4545, 'irremediablemente': 4546, 'mañanas': 4547, 'rosal': 4548, 'pétalo': 4549, 'posó': 4550, 'desmayada': 4551, 'chichón': 4552, 'médicos': 4553, 'tardaron': 4554, 'pliegue': 4555, 'sábanas': 4556, 'delicada': 4557, 'arquitectos': 4558, 'construyendo': 4559, 'urna': 4560, 'proteger': 4561, 'ubicaron': 4562, 'mesa': 4563, 'sillones': 4564, 'través': 4565, 'mosquito': 4566, 'batir': 4567, 'resfriado': 4568, 'alerta': 4569, 'velando': 4570, 'arañas': 4571, 'brillantes': 4572, 'surgieron': 4573, 'guirnaldas': 4574, 'colocamos': 4575, 'navideño': 4576, 'turrones': 4577, 'luciera': 4578, 'limpiado': 4579, 'rincón': 4580, 'quedase': 4581, 'polvo': 4582, 'suciedad': 4583, 'afán': 4584, 'limpieza': 4585, 'destruido': 4586, 'minúsculas': 4587, 'telarañas': 4588, 'formaban': 4589, 'refugio': 4590, 'arañitas': 4591, 'disfrutaban': 4592, 'fechas': 4593, 'despojadas': 4594, 'tuvieron': 4595, 'desoladas': 4596, 'ático': 4597, 'víspera': 4598, 'festivo': 4599, 'apoderó': 4600, 'completa': 4601, 'decoraba': 4602, 'colocaron': 4603, 'adorno': 4604, 'abrieran': 4605, 'viejas': 4606, 'sabias': 4607, 'escena': 4608, 'escondidas': 4609, 'hendija': 4610, 'silenciosa': 4611, 'escondite': 4612, 'grieta': 4613, 'descubiertas': 4614, 'claus': 4615, 'colarse': 4616, 'aterrizado': 4617, 'repartidas': 4618, 'decoraciones': 4619, 'bonitas': 4620, 'convertir': 4621, 'tiras': 4622, 'luminosas': 4623, 'conocemos': 4624, 'músicos': 4625, 'bremen': 4626, 'laúd': 4627, 'servido': 4628, 'utilidad': 4629, 'percatándose': 4630, 'rendimiento': 4631, 'abandonarlo': 4632, 'músico': 4633, 'inició': 4634, 'aparentaba': 4635, 'cansancio': 4636, 'atrapar': 4637, 'similitud': 4638, 'escapado': 4639, 'sacrificarlo': 4640, 'consecuente': 4641, 'inutilidad': 4642, 'acompañase': 4643, 'tocaría': 4644, 'práctica': 4645, 'timbales': 4646, 'necesario': 4647, 'acompañamiento': 4648, 'armónico': 4649, 'hubieron': 4650, 'desvencijado': 4651, 'amarga': 4652, 'interesaron': 4653, 'minino': 4654, 'idéntica': 4655, 'ahogarlo': 4656, 'proporcionaba': 4657, 'entretenimiento': 4658, 'cazaba': 4659, 'roedores': 4660, 'sensibilizados': 4661, 'formar': 4662, 'diese': 4663, 'confesó': 4664, 'música': 4665, 'placentero': 4666, 'acompañarlos': 4667, 'avanzó': 4668, 'lamentándose': 4669, 'pena': 4670, 'excelsa': 4671, 'calidad': 4672, 'vocal': 4673, 'planeaban': 4674, 'solidarizados': 4675, 'coincidieron': 4676, 'invitarlo': 4677, 'vocalista': 4678, 'posibilidades': 4679, 'triunfar': 4680, 'exigente': 4681, 'reemprendieron': 4682, 'iniciativa': 4683, 'solitario': 4684, 'alejada': 4685, 'habitada': 4686, 'ligera': 4687, 'cautelosos': 4688, 'comprobaron': 4689, 'gente': 4690, 'degustar': 4691, 'parecieron': 4692, 'manjares': 4693, 'dada': 4694, 'expulsar': 4695, 'moradores': 4696, 'disfrutasen': 4697, 'apetecible': 4698, 'festín': 4699, 'encaramado': 4700, 'parecían': 4701, 'inspiraba': 4702, 'máxime': 4703, 'acompañada': 4704, 'rebuznes': 4705, 'ladridos': 4706, 'maullidos': 4707, 'kikirikíes': 4708, 'empezaron': 4709, 'ejecutar': 4710, 'compás': 4711, 'ruido': 4712, 'despavoridos': 4713, 'creyeron': 4714, 'monstruo': 4715, 'morada': 4716, 'guardaban': 4717, 'fortunas': 4718, 'recabadas': 4719, 'fechorías': 4720, 'aspirantes': 4721, 'antiguas': 4722, 'residencias': 4723, 'llenura': 4724, 'cuatros': 4725, 'cayeron': 4726, 'heridos': 4727, 'loma': 4728, 'estiércol': 4729, 'echarse': 4730, 'viga': 4731, 'pasadas': 4732, 'desalojada': 4733, 'ahuyentó': 4734, 'vivienda': 4735, 'brillosos': 4736, 'brasas': 4737, 'avivar': 4738, 'cerilla': 4739, 'lastimado': 4740, 'pleno': 4741, 'retirada': 4742, 'ciegas': 4743, 'pisó': 4744, 'rabo': 4745, 'mordió': 4746, 'compasión': 4747, 'canilla': 4748, 'asustó': 4749, 'propinó': 4750, 'coz': 4751, 'violenta': 4752, 'dormilón': 4753, 'kikirikear': 4754, 'pánico': 4755, 'experimentado': 4756, 'adonde': 4757, 'haciéndoles': 4758, 'desistir': 4759, 'arañado': 4760, 'violento': 4761, 'acuchillado': 4762, 'golpeaba': 4763, 'mazo': 4764, 'juez': 4765, 'juzgar': 4766, 'ladrón': 4767, 'pasa': 4768, 'raro': 4769, 'provoca': 4770, 'preocupaciones': 4771, 'temerosos': 4772, 'construir': 4773, 'serviría': 4774, 'atacaba': 4775, 'sencilla': 4776, 'recolectar': 4777, 'manzanas': 4778, 'molestar': 4779, 'cerditosel': 4780, 'tardó': 4781, 'construirla': 4782, 'ladrillos': 4783, 'terminarla': 4784, 'protegido': 4785, 'azar': 4786, 'mazorcas': 4787, 'maíz': 4788, 'gustaban': 4789, 'casitas': 4790, 'terminadas': 4791, 'satisfechos': 4792, 'realizado': 4793, 'cantaban': 4794, 'comerá': 4795, 'insultado': 4796, 'rugiendo': 4797, 'asustados': 4798, 'pestillos': 4799, 'construido': 4800, 'ábreme': 4801, 'soplaré': 4802, 'derribaré': 4803, 'feroz': 4804, 'derrumbó': 4805, 'enfurecido': 4806, 'cerditossoplaré': 4807, 'resistieron': 4808, 'duras': 4809, 'penas': 4810, 'advertirles': 4811, 'soplar': 4812, 'resistente': 4813, 'esfuerzos': 4814, 'intención': 4815, 'rendirse': 4816, 'menuda': 4817, 'caldero': 4818, 'hirviendo': 4819, 'cocinar': 4820, 'guiso': 4821, 'aullido': 4822, 'dedicaron': 4823, 'triunfo': 4824, 'laborioso': 4825, 'iker': 4826, 'regar': 4827, 'escoger': 4828, 'rosas': 4829, 'completaba': 4830, 'entregaba': 4831, 'despidiéndole': 4832, 'éste': 4833, 'marchaba': 4834, 'venderlas': 4835, 'cambiarlas': 4836, 'barbaridades': 4837, 'jolongo': 4838, 'soguilla': 4839, 'tarro': 4840, 'mermelada': 4841, 'calabaza': 4842, 'topar': 4843, 'cuervo': 4844, 'desalmado': 4845, 'acurrucado': 4846, 'ayer': 4847, 'habrás': 4848, 'maldito': 4849, 'deberías': 4850, 'graznó': 4851, 'espantosos': 4852, 'devoran': 4853, 'saldrás': 4854, 'advertencias': 4855, 'sentarse': 4856, 'vociferó': 4857, 'aguda': 4858, 'haces': 4859, 'devoramos': 4860, 'atreva': 4861, 'asustaba': 4862, 'tragárselo': 4863, 'someterlo': 4864, 'prueba': 4865, 'realizar': 4866, 'decirte': 4867, 'dígame': 4868, 'fríamente': 4869, 'hoyo': 4870, 'rocas': 4871, 'malicia': 4872, 'pasadizo': 4873, 'conduce': 4874, 'infierno': 4875, 'queman': 4876, 'tocarlas': 4877, 'ciego': 4878, 'mire': 4879, 'tráeme': 4880, 'esas': 4881, 'lograría': 4882, 'viera': 4883, 'tronco': 4884, 'extremos': 4885, 'enroscó': 4886, 'cintura': 4887, 'puñado': 4888, 'larvas': 4889, 'luciérnagas': 4890, 'girasol': 4891, 'reía': 4892, 'estruendosas': 4893, 'esperó': 4894, 'girasoles': 4895, 'cierran': 4896, 'encoger': 4897, 'pétalos': 4898, 'soga': 4899, 'animado': 4900, 'fosforescente': 4901, 'iluminaba': 4902, 'balbuceó': 4903, 'conseguido': 4904, 'apresurarte': 4905, 'avanzando': 4906, 'tenebrosos': 4907, 'retumbaba': 4908, 'oído': 4909, 'repugnante': 4910, 'acariciaba': 4911, 'mmm': 4912, 'saboreándose': 4913, 'comeré': 4914, 'entero': 4915, 'poniéndose': 4916, 'pie': 4917, 'come': 4918, 'demostraré': 4919, 'señaló': 4920, 'apuntando': 4921, 'medialuna': 4922, 'charlatán': 4923, 'abriendo': 4924, 'mentiroso': 4925, 'demostrárselo': 4926, 'veámonos': 4927, 'habré': 4928, 'estupendo': 4929, 'cumples': 4930, 'tragaré': 4931, 'sentenció': 4932, 'desesperó': 4933, 'conocedor': 4934, 'fases': 4935, 'perfectamente': 4936, 'menguante': 4937, 'llegaría': 4938, 'vería': 4939, 'acordado': 4940, 'cachetes': 4941, 'niñato': 4942, 'prepárate': 4943, 'rellenar': 4944, 'suculenta': 4945, 'protestó': 4946, 'alzando': 4947, 'mira': 4948, 'deliciosa': 4949, 'guardarte': 4950, 'diablillo': 4951, 'vea': 4952, 'antojado': 4953, 'gordinflón': 4954, 'devore': 4955, 'dime': 4956, 'dímelo': 4957, 'digo': 4958, 'llevado': 4959, 'apresúrate': 4960, 'fulgurando': 4961, 'piernas': 4962, 'tercero': 4963, 'descomunal': 4964, 'horripilante': 4965, 'tenemos': 4966, 'devuélvame': 4967, 'caldera': 4968, 'vencerme': 4969, 'salvarlo': 4970, 'ganar': 4971, 'utilizó': 4972, 'astucia': 4973, 'derrotar': 4974, 'sepa': 4975, 'competir': 4976, 'fácilmente': 4977, 'disparates': 4978, 'ágil': 4979, 'conoces': 4980, 'enfrentarme': 4981, 'señalando': 4982, 'alcanzarle': 4983, 'gane': 4984, 'lanzaré': 4985, 'olla': 4986, 'da': 4987, 'estirada': 4988, 'inclinada': 4989, 'sobrepasar': 4990, 'apretaba': 4991, 'enceguecido': 4992, 'abismal': 4993, 'desfiladero': 4994, 'vino': 4995, 'monstruoso': 4996, 'alarido': 4997, 'apagarse': 4998, 'liberado': 4999, 'socorrer': 5000, 'cocinado': 5001, 'emocionante': 5002, 'apresurados': 5003, 'sanos': 5004, 'salvos': 5005, 'testamento': 5006, 'repartir': 5007, 'bienes': 5008, 'notario': 5009, 'entregara': 5010, 'holgazán': 5011, 'revelar': 5012, 'aparecían': 5013, 'encontrarlos': 5014, 'canso': 5015, 'murmuró': 5016, 'lentitud': 5017, 'interesa': 5018, 'habla': 5019, 'prisión': 5020, 'incendió': 5021, 'ahogando': 5022, 'humo': 5023, 'quemaba': 5024, 'costaba': 5025, 'cuéntame': 5026, 'cárcel': 5027, 'contaré': 5028, 'caí': 5029, 'mar': 5030, 'salvarme': 5031, 'nivel': 5032, 'mencionaba': 5033, 'turno': 5034, 'llevarme': 5035, 'reciba': 5036, 'tuya': 5037, 'matías': 5038, 'muñeco': 5039, 'ocupados': 5040, 'preparativos': 5041, 'festividad': 5042, 'retozando': 5043, 'apilaba': 5044, 'daría': 5045, 'moldear': 5046, 'bolas': 5047, 'tratase': 5048, 'arrancó': 5049, 'ramitas': 5050, 'secas': 5051, 'tomando': 5052, 'agarró': 5053, 'bufanda': 5054, 'lana': 5055, 'botones': 5056, 'zanahoria': 5057, 'colocando': 5058, 'detalle': 5059, 'anhelo': 5060, 'cobrado': 5061, 'sonreía': 5062, 'desea': 5063, 'emocionado': 5064, 'lanzarle': 5065, 'llamaré': 5066, 'copo': 5067, 'sentiría': 5068, 'divertía': 5069, 'venían': 5070, 'colegio': 5071, 'vecindario': 5072, 'ocurrencias': 5073, 'temporada': 5074, 'invernal': 5075, 'trasladarlo': 5076, 'parque': 5077, 'derretía': 5078, 'visitaran': 5079, 'constante': 5080, 'pedro': 5081, 'pícaro': 5082, 'pastar': 5083, 'tumbado': 5084, 'ocupaba': 5085, 'pensamiento': 5086, 'bromas': 5087, 'asustar': 5088, 'viene': 5089, 'pulmones': 5090, 'armaron': 5091, 'maderos': 5092, 'socorrerlo': 5093, 'soltando': 5094, 'broma': 5095, 'enfadados': 5096, 'reído': 5097, 'repetir': 5098, 'volvieran': 5099, 'terminaron': 5100, 'risotadas': 5101, 'burlonas': 5102, 'gruñido': 5103, 'espaldas': 5104, 'acechaba': 5105, 'devorando': 5106, 'empeñó': 5107, 'realizando': 5108, 'prestar': 5109, 'zampó': 5110, 'bromear': 5111, 'engaño': 5112, 'traen': 5113, 'provecho': 5114, 'carpintero': 5115, 'maese': 5116, 'cereza': 5117, 'trozo': 5118, 'dirán': 5119, 'lectores': 5120, 'muchachos': 5121, 'sencillamente': 5122, 'leño': 5123, 'encienden': 5124, 'estufas': 5125, 'habitaciones': 5126, 'dios': 5127, 'taller': 5128, 'antonio': 5129, 'colorada': 5130, 'madura': 5131, 'pascuas': 5132, '6': 5133, 'httpbibliotecadigitalilceedumx': 5134, 'frotarse': 5135, 'capote': 5136, 'llegas': 5137, 'quitarle': 5138, 'corteza': 5139, 'desbastarlo': 5140, 'hachazo': 5141, 'brazo': 5142, 'levantado': 5143, 'vocecita': 5144, 'fina': 5145, 'acento': 5146, 'suplicante': 5147, 'des': 5148, 'imaginarán': 5149, 'quedaría': 5150, 'recorrieron': 5151, 'estancia': 5152, 'banco': 5153, 'armario': 5154, 'cerrado': 5155, 'cesto': 5156, 'astillas': 5157, 'virutas': 5158, 'platero': 5159, 'encuentra': 5160, 'cubierta': 5161, 'seda': 5162, 'parece': 5163, 'oscuros': 5164, 'transmite': 5165, 'dureza': 5166, 'adora': 5167, 'suelto': 5168, 'transmiten': 5169, 'acaricia': 5170, 'delicadamente': 5171, 'siente': 5172, 'gualdas': 5173, 'celestes': 5174, 'florecilla': 5175, 'duda': 5176, 'trotando': 5177, 'cascabeles': 5178, 'movidos': 5179, 'preferidas': 5180, 'mandarinas': 5181, 'olvidarnos': 5182, 'moscatel': 5183, 'higos': 5184, 'morados': 5185, 'ámbar': 5186, 'conocen': 5187, 'llama': 5188, 'domingos': 5189, 'paseamos': 5190, 'ando': 5191, 'miran': 5192, 'diccionario': 5193, 'asnografía': 5194, 'irónicamente': 5195, 'descripción': 5196, 'sentí': 5197, 'merece': 5198, 'describan': 5199, 'referimos': 5200, 'describirte': 5201, 'tratarte': 5202, 'acudir': 5203, 'estuviésemos': 5204, 'mariposas': 5205, 'sabio': 5206, 'sensible': 5207, 'calmado': 5208, 'marcos': 5209, 'aurelio': 5210, 'prados': 5211, 'pestañar': 5212, 'firmeza': 5213, 'observa': 5214, 'rayitos': 5215, 'iluminan': 5216, 'azabaches': 5217, 'reflejando': 5218, 'verdinegro': 5219, 'pelos': 5220, 'trato': 5221, 'revertir': 5222, 'malvados': 5223, 'ponen': 5224, 'diccionarios': 5225, 'irónico': 5226, 'significado': 5227, 'escribí': 5228, 'figurado': 5229, 'describir': 5230, 'escriben': 5231, 'permanece': 5232, 'vivo': 5233, 'mujeres': 5234, 'ruina': 5235, 'afectara': 5236, 'caerá': 5237, 'afrontado': 5238, 'corazones': 5239, 'pensamientos': 5240, 'parecieran': 5241, 'evitarían': 5242, 'memoria': 5243, 'actos': 5244, 'infames': 5245, 'descortesías': 5246, 'confidente': 5247, 'imagina': 5248, 'pondré': 5249, 'presente': 5250, 'permanezca': 5251, 'recuerdo': 5252, 'fragancia': 5253, 'permaneces': 5254, 'vives': 5255, 'sostienes': 5256, 'amanecer': 5257, 'crece': 5258, 'pulgarcito': 5259, 'lañadores': 5260, 'varones': 5261, 'siete': 5262, 'inteligente': 5263, 'perspicaz': 5264, 'dedo': 5265, 'pulgar': 5266, 'entristeció': 5267, 'hablaban': 5268, 'buscarle': 5269, 'amaneció': 5270, 'alertarlos': 5271, 'debéis': 5272, 'preocuparle': 5273, 'desconfiado': 5274, 'digas': 5275, 'pretendes': 5276, 'propongo': 5277, 'vayamos': 5278, 'escondamos': 5279, 'arbustos': 5280, 'esperemos': 5281, 'cansen': 5282, 'buscarnos': 5283, 'propósitos': 5284, 'perdemos': 5285, 'cae': 5286, 'vuelve': 5287, 'tenebroso': 5288, 'traslademos': 5289, 'miguitas': 5290, 'sabiamente': 5291, 'explicaciones': 5292, 'convencidos': 5293, 'juraron': 5294, 'explicado': 5295, 'actuaron': 5296, 'imprevistos': 5297, 'tormenta': 5298, 'desarrollarse': 5299, 'trataron': 5300, 'guiarían': 5301, 'desaparecido': 5302, 'hábil': 5303, 'divisó': 5304, 'iremos': 5305, 'sabemos': 5306, 'dejarnos': 5307, 'desconcertada': 5308, 'petición': 5309, 'negación': 5310, 'dudaría': 5311, 'preparar': 5312, 'sopa': 5313, 'exhaustos': 5314, 'suplicaron': 5315, 'dejara': 5316, 'insistir': 5317, 'fresca': 5318, 'olerlo': 5319, 'aterrorizados': 5320, 'acostaron': 5321, 'observó': 5322, 'coronas': 5323, 'desconfiaba': 5324, 'déjame': 5325, 'botos': 5326, 'leguas': 5327, 'atraparlos': 5328, 'escondieron': 5329, 'regresaran': 5330, 'capturado': 5331, 'tengáis': 5332, 'liberen': 5333, 'necesidades': 5334, 'sirvió': 5335, 'mensajero': 5336, 'usando': 5337, 'ejército': 5338, 'logro': 5339, 'incrementar': 5340, 'rapunzel': 5341, 'espera': 5342, 'adorable': 5343, 'huerto': 5344, 'bellísimos': 5345, 'probarlos': 5346, 'terreno': 5347, 'huerta': 5348, 'mejoró': 5349, 'mantenerse': 5350, 'comerlas': 5351, 'vigilante': 5352, 'cultivo': 5353, 'favorito': 5354, 'atrapó': 5355, 'cobrarle': 5356, 'tamaña': 5357, 'suplicó': 5358, 'bondad': 5359, 'llevando': 5360, 'naciera': 5361, 'entregaría': 5362, 'nació': 5363, 'criándola': 5364, 'lares': 5365, 'torra': 5366, 'torre': 5367, 'asomarse': 5368, 'paisaje': 5369, 'reclusión': 5370, 'interacción': 5371, 'trenza': 5372, 'necesarios': 5373, 'apreciada': 5374, 'canto': 5375, 'acercado': 5376, 'dejase': 5377, 'malévola': 5378, 'trepó': 5379, 'acostumbrada': 5380, 'criado': 5381, 'interactuaba': 5382, 'resultaba': 5383, 'atractivo': 5384, 'recluida': 5385, 'sombrero': 5386, 'espero': 5387, 'descendiese': 5388, 'cortó': 5389, 'desterró': 5390, 'apartado': 5391, 'frecuentaba': 5392, 'cegado': 5393, 'impedido': 5394, 'andares': 5395, 'torpes': 5396, 'rastro': 5397, 'acercaba': 5398, 'abrazó': 5399, 'creyó': 5400, 'maleficio': 5401, 'lloró': 5402, 'inevitablemente': 5403, 'devolviéndole': 5404, 'clara': 5405, 'amantes': 5406, 'finales': 5407, 'conseguirlos': 5408, 'queremos': 5409, 'reinaron': 5410, 'ricitos': 5411, 'levantaban': 5412, 'abierta': 5413, 'tazones': 5414, 'sabrosa': 5415, 'beberla': 5416, 'comenzando': 5417, 'tazón': 5418, 'saborear': 5419, 'repitió': 5420, 'sillas': 5421, 'silla': 5422, 'ancha': 5423, 'desistió': 5424, 'camita': 5425, 'pardos': 5426, 'verdaderos': 5427, 'osa': 5428, 'saltarín': 5429, 'desayunar': 5430, 'papa': 5431, 'probado': 5432, 'desconsolada': 5433, 'demoró': 5434, 'afligidos': 5435, 'acostarse': 5436, 'acostado': 5437, 'mirándola': 5438, 'trineo': 5439, 'carlitos': 5440, 'despierto': 5441, 'conducido': 5442, 'barba': 5443, 'abrigado': 5444, 'pieles': 5445, 'sucio': 5446, 'hollín': 5447, 'serlo': 5448, 'llenando': 5449, 'calcetines': 5450, 'rodeando': 5451, 'mejillas': 5452, 'rosadas': 5453, 'mueca': 5454, 'sonriente': 5455, 'marcaba': 5456, 'hoyuelos': 5457, 'todavía': 5458, 'firmemente': 5459, 'pedirte': 5460, 'lleves': 5461, 'dejes': 5462, 'impacientemente': 5463, 'copiloto': 5464, 'portado': 5465, 'subieron': 5466, 'aparcado': 5467, 'volaron': 5468, 'cielos': 5469, 'huracanado': 5470, 'silbaba': 5471, 'nombres': 5472, 'corran': 5473, 'trueno': 5474, 'cometa': 5475, 'centella': 5476, 'apúrense': 5477, 'esperan': 5478, 'parpadear': 5479, 'visitaron': 5480}\n"
     ]
    }
   ],
   "source": [
    "# Crear el vocabulario de las diez oraciones\n",
    "vocabulario = ftc.create_vocabulary(books.values())\n",
    "print(vocabulario)"
   ]
  },
  {
   "cell_type": "code",
   "execution_count": 4,
   "id": "18bd87a6",
   "metadata": {},
   "outputs": [
    {
     "name": "stdout",
     "output_type": "stream",
     "text": [
      "[16. 43. 35. ...  0.  0.  0.]\n"
     ]
    }
   ],
   "source": [
    "vector_cuentos=[]\n",
    "for keys, value in books.items():\n",
    "    vector_cuentos.append(ftc.create_vectorized_document(books[keys], vocabulario))\n",
    "\n",
    "# Print the vectorized document\n",
    "print(vector_cuentos[0])\n"
   ]
  },
  {
   "cell_type": "code",
   "execution_count": 5,
   "id": "590beca9",
   "metadata": {},
   "outputs": [],
   "source": [
    "matrix= ftc.create_matrix_documents(books, vocabulario)"
   ]
  },
  {
   "cell_type": "code",
   "execution_count": 6,
   "id": "16ddbfaf",
   "metadata": {
    "scrolled": true
   },
   "outputs": [
    {
     "data": {
      "text/plain": [
       "{'El mago de Oz': 0.05781989170668216,\n",
       " 'Hansel y Gretel': 0.0444554224474387,\n",
       " 'El rey y el joven Tomás': 0.041946305809109886,\n",
       " 'Rapunzel': 0.04001245025486474,\n",
       " 'Aurora, la princesa que no conocía la luna': 0.024021532944603168,\n",
       " 'Las arañas brillantes de la Navidad': 0.016985788839624955,\n",
       " 'El perro cazador y su amo': 0.013827674747047453,\n",
       " 'La vaca y la mosca': 0.007917579440244203,\n",
       " 'El patito feo': 0.0074349956124245085,\n",
       " 'CaperucitaRoja': 0.007419018249887383,\n",
       " 'Los músicos de Bremen': 0.0061215057131932355,\n",
       " 'Ana y el Caballito Verde': 0.0,\n",
       " 'Como se hizo la lluvia': 0.0,\n",
       " 'El abad y los tres enigmas': 0.0,\n",
       " 'El agua mágica para el rey': 0.0,\n",
       " 'El carrete mágico': 0.0,\n",
       " 'El cerdito de color verde': 0.0,\n",
       " 'El deseo de Luisa': 0.0,\n",
       " 'El gato con botas': 0.0,\n",
       " 'El gato que soñaba con alcanzar la luna': 0.0,\n",
       " 'El gigante egoísta': 0.0,\n",
       " 'El Hada que no podía volar': 0.0,\n",
       " 'El Jorobado de Notre Dame': 0.0,\n",
       " 'El leñador honrado': 0.0,\n",
       " 'El león que se creía cordero': 0.0,\n",
       " 'El libro de la selva': 0.0,\n",
       " 'El mejor regalo de Santa': 0.0,\n",
       " 'El perrito Junior': 0.0,\n",
       " 'El Príncipe y la cebolla': 0.0,\n",
       " 'El pájaro flautista': 0.0,\n",
       " 'El ratón y el león': 0.0,\n",
       " 'El soldadito de plomo': 0.0,\n",
       " 'El traje nuevo del emperador': 0.0,\n",
       " 'Garbancito': 0.0,\n",
       " 'Juan sin miedo': 0.0,\n",
       " 'La gallina roja': 0.0,\n",
       " 'La gata encantada': 0.0,\n",
       " 'La gratitud de la fiera': 0.0,\n",
       " 'La nuez de Oro': 0.0,\n",
       " 'La princesa más bella del reino': 0.0,\n",
       " 'La princesa rizos largos': 0.0,\n",
       " 'La ratita blanca': 0.0,\n",
       " 'La ratita presumida': 0.0,\n",
       " 'Las 3 princesas delicadas': 0.0,\n",
       " 'Los tres cerditos': 0.0,\n",
       " 'Los tres ogros': 0.0,\n",
       " 'Los tres perezosos': 0.0,\n",
       " 'Matías y el muñeco de nieve': 0.0,\n",
       " 'Pedro y el lobo': 0.0,\n",
       " 'Pinocho': 0.0,\n",
       " 'Platero y yo': 0.0,\n",
       " 'Pulgarcito': 0.0,\n",
       " 'Ricitos de oro': 0.0,\n",
       " 'Un paseo en el trineo de Santa': 0.0}"
      ]
     },
     "execution_count": 6,
     "metadata": {},
     "output_type": "execute_result"
    }
   ],
   "source": [
    "query = [\"bruja\", \"mala\"]\n",
    "documentos_relevantes = ftc.calculate_similarity_for_query(query,books, matrix, vocabulario)\n",
    "documentos_relevantes"
   ]
  },
  {
   "cell_type": "code",
   "execution_count": 7,
   "id": "5362e29a",
   "metadata": {},
   "outputs": [
    {
     "data": {
      "text/plain": [
       "{'La princesa rizos largos': 0.1599732689226257,\n",
       " 'La princesa más bella del reino': 0.15878017296044808,\n",
       " 'Aurora, la princesa que no conocía la luna': 0.10191473303774974,\n",
       " 'Las 3 princesas delicadas': 0.08069700435584032,\n",
       " 'El Príncipe y la cebolla': 0.05212860351426869,\n",
       " 'El agua mágica para el rey': 0.01979615922483107,\n",
       " 'Garbancito': 0.011408658578622726,\n",
       " 'Juan sin miedo': 0.009537661085749894,\n",
       " 'Ana y el Caballito Verde': 0.0,\n",
       " 'CaperucitaRoja': 0.0,\n",
       " 'Como se hizo la lluvia': 0.0,\n",
       " 'El abad y los tres enigmas': 0.0,\n",
       " 'El carrete mágico': 0.0,\n",
       " 'El cerdito de color verde': 0.0,\n",
       " 'El deseo de Luisa': 0.0,\n",
       " 'El gato con botas': 0.0,\n",
       " 'El gato que soñaba con alcanzar la luna': 0.0,\n",
       " 'El gigante egoísta': 0.0,\n",
       " 'El Hada que no podía volar': 0.0,\n",
       " 'El Jorobado de Notre Dame': 0.0,\n",
       " 'El leñador honrado': 0.0,\n",
       " 'El león que se creía cordero': 0.0,\n",
       " 'El libro de la selva': 0.0,\n",
       " 'El mago de Oz': 0.0,\n",
       " 'El mejor regalo de Santa': 0.0,\n",
       " 'El patito feo': 0.0,\n",
       " 'El perrito Junior': 0.0,\n",
       " 'El perro cazador y su amo': 0.0,\n",
       " 'El pájaro flautista': 0.0,\n",
       " 'El ratón y el león': 0.0,\n",
       " 'El rey y el joven Tomás': 0.0,\n",
       " 'El soldadito de plomo': 0.0,\n",
       " 'El traje nuevo del emperador': 0.0,\n",
       " 'Hansel y Gretel': 0.0,\n",
       " 'La gallina roja': 0.0,\n",
       " 'La gata encantada': 0.0,\n",
       " 'La gratitud de la fiera': 0.0,\n",
       " 'La nuez de Oro': 0.0,\n",
       " 'La ratita blanca': 0.0,\n",
       " 'La ratita presumida': 0.0,\n",
       " 'La vaca y la mosca': 0.0,\n",
       " 'Las arañas brillantes de la Navidad': 0.0,\n",
       " 'Los músicos de Bremen': 0.0,\n",
       " 'Los tres cerditos': 0.0,\n",
       " 'Los tres ogros': 0.0,\n",
       " 'Los tres perezosos': 0.0,\n",
       " 'Matías y el muñeco de nieve': 0.0,\n",
       " 'Pedro y el lobo': 0.0,\n",
       " 'Pinocho': 0.0,\n",
       " 'Platero y yo': 0.0,\n",
       " 'Pulgarcito': 0.0,\n",
       " 'Rapunzel': 0.0,\n",
       " 'Ricitos de oro': 0.0,\n",
       " 'Un paseo en el trineo de Santa': 0.0}"
      ]
     },
     "execution_count": 7,
     "metadata": {},
     "output_type": "execute_result"
    }
   ],
   "source": [
    "query = [\"princesa\", \"dragon\"]\n",
    "documentos_relevantes = ftc.calculate_similarity_for_query(query,books, matrix, vocabulario)\n",
    "documentos_relevantes"
   ]
  },
  {
   "cell_type": "code",
   "execution_count": 8,
   "id": "334eee4f",
   "metadata": {},
   "outputs": [
    {
     "data": {
      "text/plain": [
       "{'Juan sin miedo': 0.0809297379647136,\n",
       " 'El gato con botas': 0.08054235474139643,\n",
       " 'El carrete mágico': 0.07575540190785701,\n",
       " 'El rey y el joven Tomás': 0.06991050968184981,\n",
       " 'La princesa rizos largos': 0.06032969774067616,\n",
       " 'Las 3 princesas delicadas': 0.05706139900145506,\n",
       " 'El agua mágica para el rey': 0.041993995287980035,\n",
       " 'Pinocho': 0.020455073743230655,\n",
       " 'El ratón y el león': 0.02043987539526564,\n",
       " 'El Príncipe y la cebolla': 0.018430244519362142,\n",
       " 'Como se hizo la lluvia': 0.015843106263111948,\n",
       " 'Pulgarcito': 0.006359244220754863,\n",
       " 'Ana y el Caballito Verde': 0.0,\n",
       " 'Aurora, la princesa que no conocía la luna': 0.0,\n",
       " 'CaperucitaRoja': 0.0,\n",
       " 'El abad y los tres enigmas': 0.0,\n",
       " 'El cerdito de color verde': 0.0,\n",
       " 'El deseo de Luisa': 0.0,\n",
       " 'El gato que soñaba con alcanzar la luna': 0.0,\n",
       " 'El gigante egoísta': 0.0,\n",
       " 'El Hada que no podía volar': 0.0,\n",
       " 'El Jorobado de Notre Dame': 0.0,\n",
       " 'El leñador honrado': 0.0,\n",
       " 'El león que se creía cordero': 0.0,\n",
       " 'El libro de la selva': 0.0,\n",
       " 'El mago de Oz': 0.0,\n",
       " 'El mejor regalo de Santa': 0.0,\n",
       " 'El patito feo': 0.0,\n",
       " 'El perrito Junior': 0.0,\n",
       " 'El perro cazador y su amo': 0.0,\n",
       " 'El pájaro flautista': 0.0,\n",
       " 'El soldadito de plomo': 0.0,\n",
       " 'El traje nuevo del emperador': 0.0,\n",
       " 'Garbancito': 0.0,\n",
       " 'Hansel y Gretel': 0.0,\n",
       " 'La gallina roja': 0.0,\n",
       " 'La gata encantada': 0.0,\n",
       " 'La gratitud de la fiera': 0.0,\n",
       " 'La nuez de Oro': 0.0,\n",
       " 'La princesa más bella del reino': 0.0,\n",
       " 'La ratita blanca': 0.0,\n",
       " 'La ratita presumida': 0.0,\n",
       " 'La vaca y la mosca': 0.0,\n",
       " 'Las arañas brillantes de la Navidad': 0.0,\n",
       " 'Los músicos de Bremen': 0.0,\n",
       " 'Los tres cerditos': 0.0,\n",
       " 'Los tres ogros': 0.0,\n",
       " 'Los tres perezosos': 0.0,\n",
       " 'Matías y el muñeco de nieve': 0.0,\n",
       " 'Pedro y el lobo': 0.0,\n",
       " 'Platero y yo': 0.0,\n",
       " 'Rapunzel': 0.0,\n",
       " 'Ricitos de oro': 0.0,\n",
       " 'Un paseo en el trineo de Santa': 0.0}"
      ]
     },
     "execution_count": 8,
     "metadata": {},
     "output_type": "execute_result"
    }
   ],
   "source": [
    "query = [\"rey\", \"maldición\"]\n",
    "documentos_relevantes = ftc.calculate_similarity_for_query(query,books, matrix, vocabulario)\n",
    "documentos_relevantes"
   ]
  },
  {
   "cell_type": "code",
   "execution_count": 9,
   "id": "1b0ce370",
   "metadata": {},
   "outputs": [
    {
     "data": {
      "text/plain": [
       "{'El perrito Junior': 0.03691626224211395,\n",
       " 'La nuez de Oro': 0.027066598098038335,\n",
       " 'El traje nuevo del emperador': 0.0254000254000381,\n",
       " 'Aurora, la princesa que no conocía la luna': 0.016985788839624958,\n",
       " 'El Jorobado de Notre Dame': 0.012936924547063017,\n",
       " 'El gigante egoísta': 0.011410143790967575,\n",
       " 'El patito feo': 0.010514671631275197,\n",
       " 'El soldadito de plomo': 0.009027712473380923,\n",
       " 'Ana y el Caballito Verde': 0.0074764396102281515,\n",
       " 'CaperucitaRoja': 0.0,\n",
       " 'Como se hizo la lluvia': 0.0,\n",
       " 'El abad y los tres enigmas': 0.0,\n",
       " 'El agua mágica para el rey': 0.0,\n",
       " 'El carrete mágico': 0.0,\n",
       " 'El cerdito de color verde': 0.0,\n",
       " 'El deseo de Luisa': 0.0,\n",
       " 'El gato con botas': 0.0,\n",
       " 'El gato que soñaba con alcanzar la luna': 0.0,\n",
       " 'El Hada que no podía volar': 0.0,\n",
       " 'El leñador honrado': 0.0,\n",
       " 'El león que se creía cordero': 0.0,\n",
       " 'El libro de la selva': 0.0,\n",
       " 'El mago de Oz': 0.0,\n",
       " 'El mejor regalo de Santa': 0.0,\n",
       " 'El perro cazador y su amo': 0.0,\n",
       " 'El Príncipe y la cebolla': 0.0,\n",
       " 'El pájaro flautista': 0.0,\n",
       " 'El ratón y el león': 0.0,\n",
       " 'El rey y el joven Tomás': 0.0,\n",
       " 'Garbancito': 0.0,\n",
       " 'Hansel y Gretel': 0.0,\n",
       " 'Juan sin miedo': 0.0,\n",
       " 'La gallina roja': 0.0,\n",
       " 'La gata encantada': 0.0,\n",
       " 'La gratitud de la fiera': 0.0,\n",
       " 'La princesa más bella del reino': 0.0,\n",
       " 'La princesa rizos largos': 0.0,\n",
       " 'La ratita blanca': 0.0,\n",
       " 'La ratita presumida': 0.0,\n",
       " 'La vaca y la mosca': 0.0,\n",
       " 'Las 3 princesas delicadas': 0.0,\n",
       " 'Las arañas brillantes de la Navidad': 0.0,\n",
       " 'Los músicos de Bremen': 0.0,\n",
       " 'Los tres cerditos': 0.0,\n",
       " 'Los tres ogros': 0.0,\n",
       " 'Los tres perezosos': 0.0,\n",
       " 'Matías y el muñeco de nieve': 0.0,\n",
       " 'Pedro y el lobo': 0.0,\n",
       " 'Pinocho': 0.0,\n",
       " 'Platero y yo': 0.0,\n",
       " 'Pulgarcito': 0.0,\n",
       " 'Rapunzel': 0.0,\n",
       " 'Ricitos de oro': 0.0,\n",
       " 'Un paseo en el trineo de Santa': 0.0}"
      ]
     },
     "execution_count": 9,
     "metadata": {},
     "output_type": "execute_result"
    }
   ],
   "source": [
    "query = [\"pantano\", \"hermoso\"]\n",
    "documentos_relevantes = ftc.calculate_similarity_for_query(query,books, matrix, vocabulario)\n",
    "documentos_relevantes"
   ]
  },
  {
   "cell_type": "code",
   "execution_count": 10,
   "id": "fcd4b8b3",
   "metadata": {},
   "outputs": [
    {
     "data": {
      "text/plain": [
       "{'El pájaro flautista': 0.02363450593737204,\n",
       " 'El patito feo': 0.022304986837273527,\n",
       " 'El carrete mágico': 0.018938850476964253,\n",
       " 'El traje nuevo del emperador': 0.017960530202677488,\n",
       " 'El gigante egoísta': 0.016136380097813506,\n",
       " 'Los músicos de Bremen': 0.012243011426386471,\n",
       " 'El Jorobado de Notre Dame': 0.009147787074926965,\n",
       " 'El león que se creía cordero': 0.0078581973696867,\n",
       " 'El agua mágica para el rey': 0.006998999214663339,\n",
       " 'Juan sin miedo': 0.006744144830392799,\n",
       " 'El soldadito de plomo': 0.00638355670853003,\n",
       " 'Pulgarcito': 0.006359244220754863,\n",
       " 'Los tres ogros': 0.004381079543383235,\n",
       " 'Ana y el Caballito Verde': 0.0,\n",
       " 'Aurora, la princesa que no conocía la luna': 0.0,\n",
       " 'CaperucitaRoja': 0.0,\n",
       " 'Como se hizo la lluvia': 0.0,\n",
       " 'El abad y los tres enigmas': 0.0,\n",
       " 'El cerdito de color verde': 0.0,\n",
       " 'El deseo de Luisa': 0.0,\n",
       " 'El gato con botas': 0.0,\n",
       " 'El gato que soñaba con alcanzar la luna': 0.0,\n",
       " 'El Hada que no podía volar': 0.0,\n",
       " 'El leñador honrado': 0.0,\n",
       " 'El libro de la selva': 0.0,\n",
       " 'El mago de Oz': 0.0,\n",
       " 'El mejor regalo de Santa': 0.0,\n",
       " 'El perrito Junior': 0.0,\n",
       " 'El perro cazador y su amo': 0.0,\n",
       " 'El Príncipe y la cebolla': 0.0,\n",
       " 'El ratón y el león': 0.0,\n",
       " 'El rey y el joven Tomás': 0.0,\n",
       " 'Garbancito': 0.0,\n",
       " 'Hansel y Gretel': 0.0,\n",
       " 'La gallina roja': 0.0,\n",
       " 'La gata encantada': 0.0,\n",
       " 'La gratitud de la fiera': 0.0,\n",
       " 'La nuez de Oro': 0.0,\n",
       " 'La princesa más bella del reino': 0.0,\n",
       " 'La princesa rizos largos': 0.0,\n",
       " 'La ratita blanca': 0.0,\n",
       " 'La ratita presumida': 0.0,\n",
       " 'La vaca y la mosca': 0.0,\n",
       " 'Las 3 princesas delicadas': 0.0,\n",
       " 'Las arañas brillantes de la Navidad': 0.0,\n",
       " 'Los tres cerditos': 0.0,\n",
       " 'Los tres perezosos': 0.0,\n",
       " 'Matías y el muñeco de nieve': 0.0,\n",
       " 'Pedro y el lobo': 0.0,\n",
       " 'Pinocho': 0.0,\n",
       " 'Platero y yo': 0.0,\n",
       " 'Rapunzel': 0.0,\n",
       " 'Ricitos de oro': 0.0,\n",
       " 'Un paseo en el trineo de Santa': 0.0}"
      ]
     },
     "execution_count": 10,
     "metadata": {},
     "output_type": "execute_result"
    }
   ],
   "source": [
    "query = [\"vestido\", \"largo\"]\n",
    "documentos_relevantes = ftc.calculate_similarity_for_query(query,books, matrix, vocabulario)\n",
    "documentos_relevantes"
   ]
  },
  {
   "cell_type": "markdown",
   "id": "9049a935",
   "metadata": {},
   "source": [
    "Se crearon otras \"queries\" para poder observar el comportamiento"
   ]
  },
  {
   "cell_type": "code",
   "execution_count": 11,
   "id": "8a29c0b6",
   "metadata": {},
   "outputs": [
    {
     "data": {
      "text/plain": [
       "{'Aurora, la princesa que no conocía la luna': 0.1681507306122222,\n",
       " 'La princesa rizos largos': 0.11311818326376781,\n",
       " 'La princesa más bella del reino': 0.11227453701830573,\n",
       " 'Las 3 princesas delicadas': 0.05706139900145506,\n",
       " 'El Príncipe y la cebolla': 0.036860489038724284,\n",
       " 'El agua mágica para el rey': 0.013997998429326678,\n",
       " 'Garbancito': 0.008067139845186208,\n",
       " 'Juan sin miedo': 0.006744144830392799,\n",
       " 'Ana y el Caballito Verde': 0.0,\n",
       " 'CaperucitaRoja': 0.0,\n",
       " 'Como se hizo la lluvia': 0.0,\n",
       " 'El abad y los tres enigmas': 0.0,\n",
       " 'El carrete mágico': 0.0,\n",
       " 'El cerdito de color verde': 0.0,\n",
       " 'El deseo de Luisa': 0.0,\n",
       " 'El gato con botas': 0.0,\n",
       " 'El gato que soñaba con alcanzar la luna': 0.0,\n",
       " 'El gigante egoísta': 0.0,\n",
       " 'El Hada que no podía volar': 0.0,\n",
       " 'El Jorobado de Notre Dame': 0.0,\n",
       " 'El leñador honrado': 0.0,\n",
       " 'El león que se creía cordero': 0.0,\n",
       " 'El libro de la selva': 0.0,\n",
       " 'El mago de Oz': 0.0,\n",
       " 'El mejor regalo de Santa': 0.0,\n",
       " 'El patito feo': 0.0,\n",
       " 'El perrito Junior': 0.0,\n",
       " 'El perro cazador y su amo': 0.0,\n",
       " 'El pájaro flautista': 0.0,\n",
       " 'El ratón y el león': 0.0,\n",
       " 'El rey y el joven Tomás': 0.0,\n",
       " 'El soldadito de plomo': 0.0,\n",
       " 'El traje nuevo del emperador': 0.0,\n",
       " 'Hansel y Gretel': 0.0,\n",
       " 'La gallina roja': 0.0,\n",
       " 'La gata encantada': 0.0,\n",
       " 'La gratitud de la fiera': 0.0,\n",
       " 'La nuez de Oro': 0.0,\n",
       " 'La ratita blanca': 0.0,\n",
       " 'La ratita presumida': 0.0,\n",
       " 'La vaca y la mosca': 0.0,\n",
       " 'Las arañas brillantes de la Navidad': 0.0,\n",
       " 'Los músicos de Bremen': 0.0,\n",
       " 'Los tres cerditos': 0.0,\n",
       " 'Los tres ogros': 0.0,\n",
       " 'Los tres perezosos': 0.0,\n",
       " 'Matías y el muñeco de nieve': 0.0,\n",
       " 'Pedro y el lobo': 0.0,\n",
       " 'Pinocho': 0.0,\n",
       " 'Platero y yo': 0.0,\n",
       " 'Pulgarcito': 0.0,\n",
       " 'Rapunzel': 0.0,\n",
       " 'Ricitos de oro': 0.0,\n",
       " 'Un paseo en el trineo de Santa': 0.0}"
      ]
     },
     "execution_count": 11,
     "metadata": {},
     "output_type": "execute_result"
    }
   ],
   "source": [
    "query = [\"aurora\", \"princesa\"]\n",
    "documentos_relevantes = ftc.calculate_similarity_for_query(query,books, matrix, vocabulario)\n",
    "documentos_relevantes"
   ]
  },
  {
   "cell_type": "code",
   "execution_count": 12,
   "id": "ee4d5cef",
   "metadata": {},
   "outputs": [
    {
     "data": {
      "text/plain": [
       "{'Las arañas brillantes de la Navidad': 0.024021532944603168,\n",
       " 'Ricitos de oro': 0.012861802823771822,\n",
       " 'El perrito Junior': 0.012305420747371317,\n",
       " 'El libro de la selva': 0.011159435525389713,\n",
       " 'El ratón y el león': 0.0096354496657336,\n",
       " 'Pulgarcito': 0.008993329423434254,\n",
       " 'Ana y el Caballito Verde': 0.0074764396102281515,\n",
       " 'Aurora, la princesa que no conocía la luna': 0.0,\n",
       " 'CaperucitaRoja': 0.0,\n",
       " 'Como se hizo la lluvia': 0.0,\n",
       " 'El abad y los tres enigmas': 0.0,\n",
       " 'El agua mágica para el rey': 0.0,\n",
       " 'El carrete mágico': 0.0,\n",
       " 'El cerdito de color verde': 0.0,\n",
       " 'El deseo de Luisa': 0.0,\n",
       " 'El gato con botas': 0.0,\n",
       " 'El gato que soñaba con alcanzar la luna': 0.0,\n",
       " 'El gigante egoísta': 0.0,\n",
       " 'El Hada que no podía volar': 0.0,\n",
       " 'El Jorobado de Notre Dame': 0.0,\n",
       " 'El leñador honrado': 0.0,\n",
       " 'El león que se creía cordero': 0.0,\n",
       " 'El mago de Oz': 0.0,\n",
       " 'El mejor regalo de Santa': 0.0,\n",
       " 'El patito feo': 0.0,\n",
       " 'El perro cazador y su amo': 0.0,\n",
       " 'El Príncipe y la cebolla': 0.0,\n",
       " 'El pájaro flautista': 0.0,\n",
       " 'El rey y el joven Tomás': 0.0,\n",
       " 'El soldadito de plomo': 0.0,\n",
       " 'El traje nuevo del emperador': 0.0,\n",
       " 'Garbancito': 0.0,\n",
       " 'Hansel y Gretel': 0.0,\n",
       " 'Juan sin miedo': 0.0,\n",
       " 'La gallina roja': 0.0,\n",
       " 'La gata encantada': 0.0,\n",
       " 'La gratitud de la fiera': 0.0,\n",
       " 'La nuez de Oro': 0.0,\n",
       " 'La princesa más bella del reino': 0.0,\n",
       " 'La princesa rizos largos': 0.0,\n",
       " 'La ratita blanca': 0.0,\n",
       " 'La ratita presumida': 0.0,\n",
       " 'La vaca y la mosca': 0.0,\n",
       " 'Las 3 princesas delicadas': 0.0,\n",
       " 'Los músicos de Bremen': 0.0,\n",
       " 'Los tres cerditos': 0.0,\n",
       " 'Los tres ogros': 0.0,\n",
       " 'Los tres perezosos': 0.0,\n",
       " 'Matías y el muñeco de nieve': 0.0,\n",
       " 'Pedro y el lobo': 0.0,\n",
       " 'Pinocho': 0.0,\n",
       " 'Platero y yo': 0.0,\n",
       " 'Rapunzel': 0.0,\n",
       " 'Un paseo en el trineo de Santa': 0.0}"
      ]
     },
     "execution_count": 12,
     "metadata": {},
     "output_type": "execute_result"
    }
   ],
   "source": [
    "query = [\"dormir\", \"dama\"]\n",
    "documentos_relevantes = ftc.calculate_similarity_for_query(query,books, matrix, vocabulario)\n",
    "documentos_relevantes"
   ]
  },
  {
   "cell_type": "code",
   "execution_count": 13,
   "id": "2dcb4d49",
   "metadata": {},
   "outputs": [
    {
     "name": "stderr",
     "output_type": "stream",
     "text": [
      "C:\\Users\\marco\\functions_NLP.py:56: RuntimeWarning: invalid value encountered in double_scalars\n",
      "  similarity = dot_product / (norm_vector1 * norm_vector2)\n"
     ]
    },
    {
     "data": {
      "text/plain": [
       "{'Ana y el Caballito Verde': nan,\n",
       " 'Aurora, la princesa que no conocía la luna': nan,\n",
       " 'CaperucitaRoja': nan,\n",
       " 'Como se hizo la lluvia': nan,\n",
       " 'El abad y los tres enigmas': nan,\n",
       " 'El agua mágica para el rey': nan,\n",
       " 'El carrete mágico': nan,\n",
       " 'El cerdito de color verde': nan,\n",
       " 'El deseo de Luisa': nan,\n",
       " 'El gato con botas': nan,\n",
       " 'El gato que soñaba con alcanzar la luna': nan,\n",
       " 'El gigante egoísta': nan,\n",
       " 'El Hada que no podía volar': nan,\n",
       " 'El Jorobado de Notre Dame': nan,\n",
       " 'El leñador honrado': nan,\n",
       " 'El león que se creía cordero': nan,\n",
       " 'El libro de la selva': nan,\n",
       " 'El mago de Oz': nan,\n",
       " 'El mejor regalo de Santa': nan,\n",
       " 'El patito feo': nan,\n",
       " 'El perrito Junior': nan,\n",
       " 'El perro cazador y su amo': nan,\n",
       " 'El Príncipe y la cebolla': nan,\n",
       " 'El pájaro flautista': nan,\n",
       " 'El ratón y el león': nan,\n",
       " 'El rey y el joven Tomás': nan,\n",
       " 'El soldadito de plomo': nan,\n",
       " 'El traje nuevo del emperador': nan,\n",
       " 'Garbancito': nan,\n",
       " 'Hansel y Gretel': nan,\n",
       " 'Juan sin miedo': nan,\n",
       " 'La gallina roja': nan,\n",
       " 'La gata encantada': nan,\n",
       " 'La gratitud de la fiera': nan,\n",
       " 'La nuez de Oro': nan,\n",
       " 'La princesa más bella del reino': nan,\n",
       " 'La princesa rizos largos': nan,\n",
       " 'La ratita blanca': nan,\n",
       " 'La ratita presumida': nan,\n",
       " 'La vaca y la mosca': nan,\n",
       " 'Las 3 princesas delicadas': nan,\n",
       " 'Las arañas brillantes de la Navidad': nan,\n",
       " 'Los músicos de Bremen': nan,\n",
       " 'Los tres cerditos': nan,\n",
       " 'Los tres ogros': nan,\n",
       " 'Los tres perezosos': nan,\n",
       " 'Matías y el muñeco de nieve': nan,\n",
       " 'Pedro y el lobo': nan,\n",
       " 'Pinocho': nan,\n",
       " 'Platero y yo': nan,\n",
       " 'Pulgarcito': nan,\n",
       " 'Rapunzel': nan,\n",
       " 'Ricitos de oro': nan,\n",
       " 'Un paseo en el trineo de Santa': nan}"
      ]
     },
     "execution_count": 13,
     "metadata": {},
     "output_type": "execute_result"
    }
   ],
   "source": [
    "query = [\"rebuscado\", \"solemne\"]\n",
    "documentos_relevantes = ftc.calculate_similarity_for_query(query,books, matrix, vocabulario)\n",
    "documentos_relevantes"
   ]
  },
  {
   "cell_type": "code",
   "execution_count": 14,
   "id": "a1d28265",
   "metadata": {},
   "outputs": [
    {
     "data": {
      "text/plain": [
       "{'El mejor regalo de Santa': 0.042591770999996,\n",
       " 'Un paseo en el trineo de Santa': 0.022881438097813775,\n",
       " 'Matías y el muñeco de nieve': 0.021412736228951155,\n",
       " 'El soldadito de plomo': 0.009027712473380923,\n",
       " 'Ana y el Caballito Verde': 0.0,\n",
       " 'Aurora, la princesa que no conocía la luna': 0.0,\n",
       " 'CaperucitaRoja': 0.0,\n",
       " 'Como se hizo la lluvia': 0.0,\n",
       " 'El abad y los tres enigmas': 0.0,\n",
       " 'El agua mágica para el rey': 0.0,\n",
       " 'El carrete mágico': 0.0,\n",
       " 'El cerdito de color verde': 0.0,\n",
       " 'El deseo de Luisa': 0.0,\n",
       " 'El gato con botas': 0.0,\n",
       " 'El gato que soñaba con alcanzar la luna': 0.0,\n",
       " 'El gigante egoísta': 0.0,\n",
       " 'El Hada que no podía volar': 0.0,\n",
       " 'El Jorobado de Notre Dame': 0.0,\n",
       " 'El leñador honrado': 0.0,\n",
       " 'El león que se creía cordero': 0.0,\n",
       " 'El libro de la selva': 0.0,\n",
       " 'El mago de Oz': 0.0,\n",
       " 'El patito feo': 0.0,\n",
       " 'El perrito Junior': 0.0,\n",
       " 'El perro cazador y su amo': 0.0,\n",
       " 'El Príncipe y la cebolla': 0.0,\n",
       " 'El pájaro flautista': 0.0,\n",
       " 'El ratón y el león': 0.0,\n",
       " 'El rey y el joven Tomás': 0.0,\n",
       " 'El traje nuevo del emperador': 0.0,\n",
       " 'Garbancito': 0.0,\n",
       " 'Hansel y Gretel': 0.0,\n",
       " 'Juan sin miedo': 0.0,\n",
       " 'La gallina roja': 0.0,\n",
       " 'La gata encantada': 0.0,\n",
       " 'La gratitud de la fiera': 0.0,\n",
       " 'La nuez de Oro': 0.0,\n",
       " 'La princesa más bella del reino': 0.0,\n",
       " 'La princesa rizos largos': 0.0,\n",
       " 'La ratita blanca': 0.0,\n",
       " 'La ratita presumida': 0.0,\n",
       " 'La vaca y la mosca': 0.0,\n",
       " 'Las 3 princesas delicadas': 0.0,\n",
       " 'Las arañas brillantes de la Navidad': 0.0,\n",
       " 'Los músicos de Bremen': 0.0,\n",
       " 'Los tres cerditos': 0.0,\n",
       " 'Los tres ogros': 0.0,\n",
       " 'Los tres perezosos': 0.0,\n",
       " 'Pedro y el lobo': 0.0,\n",
       " 'Pinocho': 0.0,\n",
       " 'Platero y yo': 0.0,\n",
       " 'Pulgarcito': 0.0,\n",
       " 'Rapunzel': 0.0,\n",
       " 'Ricitos de oro': 0.0}"
      ]
     },
     "execution_count": 14,
     "metadata": {},
     "output_type": "execute_result"
    }
   ],
   "source": [
    "query = [\"Santa\",\"regalo\"]\n",
    "documentos_relevantes = ftc.calculate_similarity_for_query(query,books, matrix, vocabulario)\n",
    "documentos_relevantes"
   ]
  },
  {
   "cell_type": "code",
   "execution_count": 15,
   "id": "69ceab3c",
   "metadata": {},
   "outputs": [
    {
     "name": "stdout",
     "output_type": "stream",
     "text": [
      "54\n"
     ]
    }
   ],
   "source": [
    "print(len(books))"
   ]
  },
  {
   "cell_type": "markdown",
   "id": "fdf320b7",
   "metadata": {},
   "source": [
    "# Metodo Ranking"
   ]
  },
  {
   "cell_type": "code",
   "execution_count": 16,
   "id": "1e3b6946",
   "metadata": {},
   "outputs": [],
   "source": [
    "vocabulario2=ftc.create_vocabulary2(books)\n"
   ]
  },
  {
   "cell_type": "code",
   "execution_count": 17,
   "id": "78ea7dde",
   "metadata": {},
   "outputs": [],
   "source": [
    "matrix2=ftc.create_matrix_documents2(books, vocabulario2)"
   ]
  },
  {
   "cell_type": "code",
   "execution_count": 22,
   "id": "e3c67ffa",
   "metadata": {},
   "outputs": [
    {
     "data": {
      "text/plain": [
       "{'El mejor regalo de Santa': 0.06551629079237917,\n",
       " 'Un paseo en el trineo de Santa': 0.031232004628389716,\n",
       " 'Matías y el muñeco de nieve': 0.03032036169556709,\n",
       " 'El soldadito de plomo': 0.0193070209745291,\n",
       " 'Ana y el Caballito Verde': 0.0,\n",
       " 'Aurora, la princesa que no conocía la luna': 0.0,\n",
       " 'CaperucitaRoja': 0.0,\n",
       " 'Como se hizo la lluvia': 0.0,\n",
       " 'El abad y los tres enigmas': 0.0,\n",
       " 'El agua mágica para el rey': 0.0,\n",
       " 'El carrete mágico': 0.0,\n",
       " 'El cerdito de color verde': 0.0,\n",
       " 'El deseo de Luisa': 0.0,\n",
       " 'El gato con botas': 0.0,\n",
       " 'El gato que soñaba con alcanzar la luna': 0.0,\n",
       " 'El gigante egoísta': 0.0,\n",
       " 'El Hada que no podía volar': 0.0,\n",
       " 'El Jorobado de Notre Dame': 0.0,\n",
       " 'El leñador honrado': 0.0,\n",
       " 'El león que se creía cordero': 0.0,\n",
       " 'El libro de la selva': 0.0,\n",
       " 'El mago de Oz': 0.0,\n",
       " 'El patito feo': 0.0,\n",
       " 'El perrito Junior': 0.0,\n",
       " 'El perro cazador y su amo': 0.0,\n",
       " 'El Príncipe y la cebolla': 0.0,\n",
       " 'El pájaro flautista': 0.0,\n",
       " 'El ratón y el león': 0.0,\n",
       " 'El rey y el joven Tomás': 0.0,\n",
       " 'El traje nuevo del emperador': 0.0,\n",
       " 'Garbancito': 0.0,\n",
       " 'Hansel y Gretel': 0.0,\n",
       " 'Juan sin miedo': 0.0,\n",
       " 'La gallina roja': 0.0,\n",
       " 'La gata encantada': 0.0,\n",
       " 'La gratitud de la fiera': 0.0,\n",
       " 'La nuez de Oro': 0.0,\n",
       " 'La princesa más bella del reino': 0.0,\n",
       " 'La princesa rizos largos': 0.0,\n",
       " 'La ratita blanca': 0.0,\n",
       " 'La ratita presumida': 0.0,\n",
       " 'La vaca y la mosca': 0.0,\n",
       " 'Las 3 princesas delicadas': 0.0,\n",
       " 'Las arañas brillantes de la Navidad': 0.0,\n",
       " 'Los músicos de Bremen': 0.0,\n",
       " 'Los tres cerditos': 0.0,\n",
       " 'Los tres ogros': 0.0,\n",
       " 'Los tres perezosos': 0.0,\n",
       " 'Pedro y el lobo': 0.0,\n",
       " 'Pinocho': 0.0,\n",
       " 'Platero y yo': 0.0,\n",
       " 'Pulgarcito': 0.0,\n",
       " 'Rapunzel': 0.0,\n",
       " 'Ricitos de oro': 0.0}"
      ]
     },
     "execution_count": 22,
     "metadata": {},
     "output_type": "execute_result"
    }
   ],
   "source": [
    "query = [\"Santa\",\"regalo\"]\n",
    "documentos_relevantes = ftc.calculate_similarity_for_query2(query,books, matrix2, vocabulario2)\n",
    "documentos_relevantes"
   ]
  },
  {
   "cell_type": "code",
   "execution_count": 23,
   "id": "1e8b8bd5",
   "metadata": {},
   "outputs": [
    {
     "data": {
      "text/plain": [
       "{'El traje nuevo del emperador': 0.059334614920769746,\n",
       " 'El pájaro flautista': 0.037763817778238284,\n",
       " 'El patito feo': 0.0024739649189473504,\n",
       " 'El gigante egoísta': 0.002133183217007204,\n",
       " 'El carrete mágico': 0.0018270688904481168,\n",
       " 'Los músicos de Bremen': 0.0015056237169958553,\n",
       " 'El agua mágica para el rey': 0.0014290921565581025,\n",
       " 'Juan sin miedo': 0.001213754565122682,\n",
       " 'Pulgarcito': 0.0011929109245203328,\n",
       " 'El león que se creía cordero': 0.0011630651020203646,\n",
       " 'El Jorobado de Notre Dame': 0.0010910923249112254,\n",
       " 'El soldadito de plomo': 0.001058018232031959,\n",
       " 'Los tres ogros': 0.0008478575126278069,\n",
       " 'Ana y el Caballito Verde': 0.0,\n",
       " 'Aurora, la princesa que no conocía la luna': 0.0,\n",
       " 'CaperucitaRoja': 0.0,\n",
       " 'Como se hizo la lluvia': 0.0,\n",
       " 'El abad y los tres enigmas': 0.0,\n",
       " 'El cerdito de color verde': 0.0,\n",
       " 'El deseo de Luisa': 0.0,\n",
       " 'El gato con botas': 0.0,\n",
       " 'El gato que soñaba con alcanzar la luna': 0.0,\n",
       " 'El Hada que no podía volar': 0.0,\n",
       " 'El leñador honrado': 0.0,\n",
       " 'El libro de la selva': 0.0,\n",
       " 'El mago de Oz': 0.0,\n",
       " 'El mejor regalo de Santa': 0.0,\n",
       " 'El perrito Junior': 0.0,\n",
       " 'El perro cazador y su amo': 0.0,\n",
       " 'El Príncipe y la cebolla': 0.0,\n",
       " 'El ratón y el león': 0.0,\n",
       " 'El rey y el joven Tomás': 0.0,\n",
       " 'Garbancito': 0.0,\n",
       " 'Hansel y Gretel': 0.0,\n",
       " 'La gallina roja': 0.0,\n",
       " 'La gata encantada': 0.0,\n",
       " 'La gratitud de la fiera': 0.0,\n",
       " 'La nuez de Oro': 0.0,\n",
       " 'La princesa más bella del reino': 0.0,\n",
       " 'La princesa rizos largos': 0.0,\n",
       " 'La ratita blanca': 0.0,\n",
       " 'La ratita presumida': 0.0,\n",
       " 'La vaca y la mosca': 0.0,\n",
       " 'Las 3 princesas delicadas': 0.0,\n",
       " 'Las arañas brillantes de la Navidad': 0.0,\n",
       " 'Los tres cerditos': 0.0,\n",
       " 'Los tres perezosos': 0.0,\n",
       " 'Matías y el muñeco de nieve': 0.0,\n",
       " 'Pedro y el lobo': 0.0,\n",
       " 'Pinocho': 0.0,\n",
       " 'Platero y yo': 0.0,\n",
       " 'Rapunzel': 0.0,\n",
       " 'Ricitos de oro': 0.0,\n",
       " 'Un paseo en el trineo de Santa': 0.0}"
      ]
     },
     "execution_count": 23,
     "metadata": {},
     "output_type": "execute_result"
    }
   ],
   "source": [
    "query = [\"vestido\", \"largo\"]\n",
    "documentos_relevantes = ftc.calculate_similarity_for_query2(query,books, matrix2, vocabulario2)\n",
    "documentos_relevantes"
   ]
  },
  {
   "cell_type": "code",
   "execution_count": 25,
   "id": "91967d56",
   "metadata": {},
   "outputs": [
    {
     "data": {
      "text/plain": [
       "{'Juan sin miedo': 0.05160403337363079,\n",
       " 'El agua mágica para el rey': 0.03918305791926259,\n",
       " 'La princesa rizos largos': 0.038107947953778434,\n",
       " 'El gato con botas': 0.006396749512664089,\n",
       " 'Las 3 princesas delicadas': 0.006295691746916091,\n",
       " 'El carrete mágico': 0.006258641718890623,\n",
       " 'El rey y el joven Tomás': 0.005359158274867734,\n",
       " 'El Príncipe y la cebolla': 0.0033897996766325375,\n",
       " 'El ratón y el león': 0.0032871595046319703,\n",
       " 'Como se hizo la lluvia': 0.0026047043344739275,\n",
       " 'Pinocho': 0.0024537774625882822,\n",
       " 'Pulgarcito': 0.0017598855165318924,\n",
       " 'Ana y el Caballito Verde': 0.0,\n",
       " 'Aurora, la princesa que no conocía la luna': 0.0,\n",
       " 'CaperucitaRoja': 0.0,\n",
       " 'El abad y los tres enigmas': 0.0,\n",
       " 'El cerdito de color verde': 0.0,\n",
       " 'El deseo de Luisa': 0.0,\n",
       " 'El gato que soñaba con alcanzar la luna': 0.0,\n",
       " 'El gigante egoísta': 0.0,\n",
       " 'El Hada que no podía volar': 0.0,\n",
       " 'El Jorobado de Notre Dame': 0.0,\n",
       " 'El leñador honrado': 0.0,\n",
       " 'El león que se creía cordero': 0.0,\n",
       " 'El libro de la selva': 0.0,\n",
       " 'El mago de Oz': 0.0,\n",
       " 'El mejor regalo de Santa': 0.0,\n",
       " 'El patito feo': 0.0,\n",
       " 'El perrito Junior': 0.0,\n",
       " 'El perro cazador y su amo': 0.0,\n",
       " 'El pájaro flautista': 0.0,\n",
       " 'El soldadito de plomo': 0.0,\n",
       " 'El traje nuevo del emperador': 0.0,\n",
       " 'Garbancito': 0.0,\n",
       " 'Hansel y Gretel': 0.0,\n",
       " 'La gallina roja': 0.0,\n",
       " 'La gata encantada': 0.0,\n",
       " 'La gratitud de la fiera': 0.0,\n",
       " 'La nuez de Oro': 0.0,\n",
       " 'La princesa más bella del reino': 0.0,\n",
       " 'La ratita blanca': 0.0,\n",
       " 'La ratita presumida': 0.0,\n",
       " 'La vaca y la mosca': 0.0,\n",
       " 'Las arañas brillantes de la Navidad': 0.0,\n",
       " 'Los músicos de Bremen': 0.0,\n",
       " 'Los tres cerditos': 0.0,\n",
       " 'Los tres ogros': 0.0,\n",
       " 'Los tres perezosos': 0.0,\n",
       " 'Matías y el muñeco de nieve': 0.0,\n",
       " 'Pedro y el lobo': 0.0,\n",
       " 'Platero y yo': 0.0,\n",
       " 'Rapunzel': 0.0,\n",
       " 'Ricitos de oro': 0.0,\n",
       " 'Un paseo en el trineo de Santa': 0.0}"
      ]
     },
     "execution_count": 25,
     "metadata": {},
     "output_type": "execute_result"
    }
   ],
   "source": [
    "query = [\"rey\", \"maldición\"]\n",
    "documentos_relevantes = ftc.calculate_similarity_for_query2(query,books, matrix2, vocabulario2)\n",
    "documentos_relevantes"
   ]
  },
  {
   "cell_type": "markdown",
   "id": "a1f92870",
   "metadata": {},
   "source": [
    "# Metodo probabilistico"
   ]
  },
  {
   "cell_type": "code",
   "execution_count": null,
   "id": "988aae06",
   "metadata": {},
   "outputs": [],
   "source": []
  }
 ],
 "metadata": {
  "kernelspec": {
   "display_name": "Python 3 (ipykernel)",
   "language": "python",
   "name": "python3"
  },
  "language_info": {
   "codemirror_mode": {
    "name": "ipython",
    "version": 3
   },
   "file_extension": ".py",
   "mimetype": "text/x-python",
   "name": "python",
   "nbconvert_exporter": "python",
   "pygments_lexer": "ipython3",
   "version": "3.9.15"
  }
 },
 "nbformat": 4,
 "nbformat_minor": 5
}
